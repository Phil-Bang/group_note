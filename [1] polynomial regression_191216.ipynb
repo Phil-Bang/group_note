{
 "cells": [
  {
   "cell_type": "markdown",
   "metadata": {},
   "source": [
    "# 기본 모듈 설치하기"
   ]
  },
  {
   "cell_type": "code",
   "execution_count": 1,
   "metadata": {},
   "outputs": [],
   "source": [
    "import pandas as pd\n",
    "import numpy as np\n",
    "from datetime import datetime\n",
    "import datetime\n",
    "from datetime import timedelta\n",
    "import matplotlib as mpl\n",
    "import matplotlib.pyplot as plt\n",
    "from matplotlib.pyplot import cm\n",
    "from matplotlib import pyplot\n",
    "import matplotlib.font_manager as fm\n",
    "import seaborn as sns\n",
    "from scipy import stats\n",
    "from pandas.plotting import register_matplotlib_converters\n",
    "register_matplotlib_converters()\n",
    "# 노트북 안에 그래프를 그리기 위해\n",
    "%matplotlib inline\n",
    "# 그래프에서 격자로 숫자 범위가 눈에 잘 띄도록 ggplot 스타일을 사용\n",
    "plt.style.use('ggplot')\n",
    "# 그래프에서 마이너스 폰트 깨지는 문제에 대한 대처\n",
    "mpl.rcParams['axes.unicode_minus'] = False\n",
    "\n",
    "# 선형회귀분석을 위한 모듈 설치하기\n",
    "from sklearn.linear_model import LinearRegression\n",
    "from sklearn.metrics import mean_squared_error\n",
    "from sklearn.metrics import r2_score\n",
    "from sklearn.preprocessing import PolynomialFeatures"
   ]
  },
  {
   "cell_type": "code",
   "execution_count": 2,
   "metadata": {},
   "outputs": [
    {
     "name": "stdout",
     "output_type": "stream",
     "text": [
      "font.cursive: ['Apple Chancery', 'Textile', 'Zapf Chancery', 'Sand', 'Script MT', 'Felipa', 'cursive']\n",
      "font.family: ['sans-serif']\n",
      "font.fantasy: ['Comic Sans MS', 'Chicago', 'Charcoal', 'Impact', 'Western', 'Humor Sans', 'xkcd', 'fantasy']\n",
      "font.monospace: ['DejaVu Sans Mono', 'Bitstream Vera Sans Mono', 'Computer Modern Typewriter', 'Andale Mono', 'Nimbus Mono L', 'Courier New', 'Courier', 'Fixed', 'Terminal', 'monospace']\n",
      "font.sans-serif: ['DejaVu Sans', 'Bitstream Vera Sans', 'Computer Modern Sans Serif', 'Lucida Grande', 'Verdana', 'Geneva', 'Lucid', 'Arial', 'Helvetica', 'Avant Garde', 'sans-serif']\n",
      "font.serif: ['DejaVu Serif', 'Bitstream Vera Serif', 'Computer Modern Roman', 'New Century Schoolbook', 'Century Schoolbook L', 'Utopia', 'ITC Bookman', 'Bookman', 'Nimbus Roman No9 L', 'Times New Roman', 'Times', 'Palatino', 'Charter', 'serif']\n",
      "font.size: 10.0\n",
      "font.stretch: normal\n",
      "font.style: normal\n",
      "font.variant: normal\n",
      "font.weight: normal\n",
      "legend.fontsize: medium\n",
      "legend.title_fontsize: None\n",
      "mathtext.fontset: dejavusans\n",
      "pdf.fonttype: 3\n",
      "pdf.use14corefonts: False\n",
      "pgf.rcfonts: True\n",
      "ps.fonttype: 3\n",
      "svg.fonttype: path\n"
     ]
    }
   ],
   "source": [
    "# matplolib모듈에 기본적으로 설정되어 있는 키값을 확인\n",
    "for key in plt.rcParamsDefault.keys():\n",
    "    if 'font' in key:\n",
    "        print('{}: {}'.format(key,plt.rcParamsDefault[key]))"
   ]
  },
  {
   "cell_type": "code",
   "execution_count": 3,
   "metadata": {},
   "outputs": [],
   "source": [
    "# 내 컴퓨터에 원하는 폰트가 있는 위치를 지정하기\n",
    "font_path = 'C:/Windows/Fonts/malgunbd.ttf'\n",
    "# 원하는 폰트이름을 저장하기\n",
    "font_name = fm.FontProperties(fname=font_path).get_name()\n",
    "# 원하는 폰트를 font.family 파라미터에 업데이트 시키고 사이즈 조절하기\n",
    "plt.rcParams['font.family'] = font_name\n",
    "plt.rcParams['font.size'] = 12"
   ]
  },
  {
   "cell_type": "markdown",
   "metadata": {},
   "source": [
    "# 선형회귀분석"
   ]
  },
  {
   "cell_type": "markdown",
   "metadata": {},
   "source": [
    "**[모델생성 훈련용 데이터 X,y값에 대한 선형회귀식 2종류 그리는 과정]**\n",
    "\n",
    "**1. X,y 데이터값을 만든다.**\n",
    "\n",
    "**2. X,y값을 가지고 lr모델을 만든다. (모델은 실제값을 가지고 만든다)**\n",
    "\n",
    "   * 이렇게 만든 lr모델을 가지고 실제 X값이 아니라, X값과 동일한 범위에서 임의의 값 10개를 선택한다.\n",
    "   * 선택한 10개의 X값을 X_fit로 놓고, lr모델에 대입하여 10개의 피팅값 y를 구하고 y_lin_fit으로 놓는다. -> X_fit, y_lin_fit\n",
    "   \n",
    "\n",
    "**3. 다항식 변형함수를 선언하고 X값을 함수모델에 대입하여 2차 다항식 값으로 변형시킨다. -> X_quad**\n",
    "\n",
    "**4. X_quad,y값을 가지고 pr모델을 만든다. (모델은 실제값을 가지고 만든다)**\n",
    "\n",
    "   * X_fit값을 가지고 2차 다항식의 X값을 만든다. -> X_quad_fit\n",
    "   * X_quad_fit값을 pr모델에 대입하여 피팅값 y를 구한다. -> X_quad_fit, y_quad_fit\n",
    "   \n",
    "\n",
    "**5. lr과 pr모델 평가를 한다.**\n",
    "   * lr모델 : 실제값 X를 대입한 예측값 y_lin_pred와 y를 비교한다.\n",
    "   * pr모델 : 실제값 X_quad를 대입한 예측값 y_quad_pred와 y를 비교한다.\n",
    "   * MSE와 R^2결정계수값을 구한다.\n",
    "   \n",
    "   \n",
    "**6. 회귀선 시각화**\n",
    "   * 단순선형회귀: X_fit값, y_lin_fit값\n",
    "   * 다항회귀 : X_fit값, y_quad_fit값"
   ]
  },
  {
   "cell_type": "markdown",
   "metadata": {},
   "source": [
    "## 데이터 만들기 : 2차원 array로 변경"
   ]
  },
  {
   "cell_type": "code",
   "execution_count": 26,
   "metadata": {},
   "outputs": [],
   "source": [
    "# X데이터 리스트 형태로 입력하고 1차원 array로 변경해주고 np.newaxis를 이용하여 2차원 array로 변경해 주기\n",
    "X = np.array([258.0,270.0,294.0,320.0,342.0,\n",
    "              368.0,396.0,446.0,480.0,586.0])[:,np.newaxis]\n",
    "\n",
    "y = np.array([236.4,234.4,252.8,298.6,314.2,\n",
    "              342.2,360.8,368.0,391.2,390.8])"
   ]
  },
  {
   "cell_type": "markdown",
   "metadata": {},
   "source": [
    "## 선형회귀선을 그리기 위한 y값 생성"
   ]
  },
  {
   "cell_type": "code",
   "execution_count": 27,
   "metadata": {},
   "outputs": [],
   "source": [
    "lr = LinearRegression()\n",
    "pr = LinearRegression()"
   ]
  },
  {
   "cell_type": "code",
   "execution_count": 28,
   "metadata": {},
   "outputs": [],
   "source": [
    "# 다항회귀와 단순선형회귀의 비교를 위해 단순선형회귀계산\n",
    "\n",
    "# X와 y값을 입력하여 선형회귀 fitting하여 모델을 만든다\n",
    "lr.fit(X,y)\n",
    "\n",
    "# X값 범위와 동일한 범위로 X_fit값을 임의로 10개를 만들어 2차원 array로 변경해 준다.\n",
    "X_fit = np.arange(250,600,10)[:,np.newaxis]"
   ]
  },
  {
   "cell_type": "code",
   "execution_count": 29,
   "metadata": {},
   "outputs": [
    {
     "data": {
      "text/plain": [
       "array([250.86164718, 256.26469105, 261.66773493, 267.0707788 ,\n",
       "       272.47382268, 277.87686655, 283.27991043, 288.6829543 ,\n",
       "       294.08599818, 299.48904205, 304.89208593, 310.2951298 ,\n",
       "       315.69817368, 321.10121755, 326.50426142, 331.9073053 ,\n",
       "       337.31034917, 342.71339305, 348.11643692, 353.5194808 ,\n",
       "       358.92252467, 364.32556855, 369.72861242, 375.1316563 ,\n",
       "       380.53470017, 385.93774405, 391.34078792, 396.7438318 ,\n",
       "       402.14687567, 407.54991955, 412.95296342, 418.3560073 ,\n",
       "       423.75905117, 429.16209505, 434.56513892])"
      ]
     },
     "execution_count": 29,
     "metadata": {},
     "output_type": "execute_result"
    }
   ],
   "source": [
    "# 임의로 만든 X_fit값에 대해서 만든 모델(lr)에 대입시켜 y_lin_fit값을 만든다\n",
    "y_lin_fit = lr.predict(X_fit)\n",
    "y_lin_fit"
   ]
  },
  {
   "cell_type": "markdown",
   "metadata": {},
   "source": [
    "## 다항회귀선을 그리기 위한 y값 생성"
   ]
  },
  {
   "cell_type": "code",
   "execution_count": 30,
   "metadata": {},
   "outputs": [],
   "source": [
    "# 다항회귀 모델을 만들고, 그 모델에 X값 대입해서 다항회귀용 X_quad값 만들기 \n",
    "quadratic = PolynomialFeatures(degree = 2)\n",
    "X_quad = quadratic.fit_transform(X)"
   ]
  },
  {
   "cell_type": "code",
   "execution_count": 31,
   "metadata": {},
   "outputs": [
    {
     "data": {
      "text/plain": [
       "PolynomialFeatures(degree=2, include_bias=True, interaction_only=False,\n",
       "                   order='C')"
      ]
     },
     "execution_count": 31,
     "metadata": {},
     "output_type": "execute_result"
    }
   ],
   "source": [
    "quadratic"
   ]
  },
  {
   "cell_type": "code",
   "execution_count": 32,
   "metadata": {},
   "outputs": [
    {
     "data": {
      "text/plain": [
       "array([[1.00000e+00, 2.58000e+02, 6.65640e+04],\n",
       "       [1.00000e+00, 2.70000e+02, 7.29000e+04],\n",
       "       [1.00000e+00, 2.94000e+02, 8.64360e+04],\n",
       "       [1.00000e+00, 3.20000e+02, 1.02400e+05],\n",
       "       [1.00000e+00, 3.42000e+02, 1.16964e+05],\n",
       "       [1.00000e+00, 3.68000e+02, 1.35424e+05],\n",
       "       [1.00000e+00, 3.96000e+02, 1.56816e+05],\n",
       "       [1.00000e+00, 4.46000e+02, 1.98916e+05],\n",
       "       [1.00000e+00, 4.80000e+02, 2.30400e+05],\n",
       "       [1.00000e+00, 5.86000e+02, 3.43396e+05]])"
      ]
     },
     "execution_count": 32,
     "metadata": {},
     "output_type": "execute_result"
    }
   ],
   "source": [
    "X_quad"
   ]
  },
  {
   "cell_type": "code",
   "execution_count": 33,
   "metadata": {},
   "outputs": [
    {
     "data": {
      "text/plain": [
       "array([215.86619864, 228.37947485, 240.44271083, 252.0559066 ,\n",
       "       263.21906215, 273.93217748, 284.19525259, 294.00828748,\n",
       "       303.37128216, 312.28423661, 320.74715085, 328.76002487,\n",
       "       336.32285867, 343.43565226, 350.09840562, 356.31111877,\n",
       "       362.0737917 , 367.38642441, 372.2490169 , 376.66156917,\n",
       "       380.62408123, 384.13655306, 387.19898468, 389.81137608,\n",
       "       391.97372726, 393.68603823, 394.94830897, 395.7605395 ,\n",
       "       396.12272981, 396.03487989, 395.49698977, 394.50905942,\n",
       "       393.07108885, 391.18307807, 388.84502707])"
      ]
     },
     "execution_count": 33,
     "metadata": {},
     "output_type": "execute_result"
    }
   ],
   "source": [
    "# X_quad와 y에 대한 다항회귀모델 만들기\n",
    "pr.fit(X_quad,y)\n",
    "\n",
    "# X_fit값을 다항회귀모델 fitting용으로 값을 변형시키기  \n",
    "X_quad_fit = quadratic.fit_transform(X_fit)\n",
    "\n",
    "# 다항회귀모델용으로 변형된 X_quad_fit값에 대한 y값인 y_quad_fit값을 계산 \n",
    "y_quad_fit = pr.predict(X_quad_fit)\n",
    "y_quad_fit"
   ]
  },
  {
   "cell_type": "markdown",
   "metadata": {},
   "source": [
    "## lr과 pr모델 평가하기"
   ]
  },
  {
   "cell_type": "code",
   "execution_count": 34,
   "metadata": {},
   "outputs": [
    {
     "name": "stdout",
     "output_type": "stream",
     "text": [
      "[255.18408228 261.66773493 274.63504023 288.6829543  300.56965083\n",
      " 314.6175649  329.74608775 356.76130712 375.1316563  432.40392137]\n",
      "\n",
      "--------------\n",
      "\n",
      "[225.91282282 240.44271083 267.55831311 294.00828748 314.01282268\n",
      " 334.84629513 353.88003834 379.09308123 389.81137608 389.8342523 ]\n"
     ]
    }
   ],
   "source": [
    "# 단순회귀 및 다항회귀 모델의 예측값 계산\n",
    "y_lin_pred = lr.predict(X)\n",
    "y_quad_pred = pr.predict(X_quad)\n",
    "\n",
    "print(y_lin_pred)\n",
    "print('\\n--------------\\n')\n",
    "print(y_quad_pred)"
   ]
  },
  {
   "cell_type": "markdown",
   "metadata": {},
   "source": [
    "$$ MSE(Mean Squared Error) = \\sum(y_i - y)^2$$"
   ]
  },
  {
   "cell_type": "markdown",
   "metadata": {},
   "source": [
    "### MSE (평균제곱오차)로 평가"
   ]
  },
  {
   "cell_type": "code",
   "execution_count": 35,
   "metadata": {},
   "outputs": [
    {
     "name": "stdout",
     "output_type": "stream",
     "text": [
      "569.7796663183207\n",
      "61.330214517447715\n"
     ]
    }
   ],
   "source": [
    "mse_lin = mean_squared_error(y,y_lin_pred)\n",
    "mse_quad = mean_squared_error(y,y_quad_pred)\n",
    "\n",
    "print(mse_lin)\n",
    "print(mse_quad)"
   ]
  },
  {
   "cell_type": "markdown",
   "metadata": {},
   "source": [
    "### R^2 (결정계수)로 평가"
   ]
  },
  {
   "cell_type": "code",
   "execution_count": 36,
   "metadata": {},
   "outputs": [
    {
     "name": "stdout",
     "output_type": "stream",
     "text": [
      "MSE\tLinear: 569.78,\tQuadratic: 61.33\n",
      "R2\tLinear: 0.83,\tQuadratic: 0.98\n"
     ]
    }
   ],
   "source": [
    "r2_lin = r2_score(y,y_lin_pred)\n",
    "r2_quad = r2_score(y,y_quad_pred)\n",
    "\n",
    "print('MSE\\tLinear: %.2f,\\tQuadratic: %.2f' %(mse_lin,mse_quad))\n",
    "print('R2\\tLinear: %.2f,\\tQuadratic: %.2f' %(r2_lin,r2_quad))"
   ]
  },
  {
   "cell_type": "markdown",
   "metadata": {},
   "source": [
    "## 회귀선 시각화 비교"
   ]
  },
  {
   "cell_type": "code",
   "execution_count": 37,
   "metadata": {},
   "outputs": [
    {
     "data": {
      "image/png": "[encoded data removed]",
      "text/plain": [
       "<Figure size 720x576 with 1 Axes>"
      ]
     },
     "metadata": {
      "needs_background": "light"
     },
     "output_type": "display_data"
    }
   ],
   "source": [
    "fig, ax = plt.subplots(figsize=(10,8))\n",
    "\n",
    "plt.scatter(X,y,label='Training Data (초기 실제값: 훈련용)')                           # 초기 실제값\n",
    "plt.plot(X_fit,y_lin_fit,label='linear fit (1차식 단순선형회귀모델)',linestyle='--')    # lr모델로 fitting한 값\n",
    "plt.plot(X_fit,y_quad_fit,label='quadratic fit (2차식 다항회귀모델)')                  # pr모델로 fitting한 값 \n",
    "plt.legend(loc=2)\n",
    "plt.show()"
   ]
  }
 ],
 "metadata": {
  "kernelspec": {
   "display_name": "Python 3",
   "language": "python",
   "name": "python3"
  },
  "language_info": {
   "codemirror_mode": {
    "name": "ipython",
    "version": 3
   },
   "file_extension": ".py",
   "mimetype": "text/x-python",
   "name": "python",
   "nbconvert_exporter": "python",
   "pygments_lexer": "ipython3",
   "version": "3.7.3"
  },
  "nbTranslate": {
   "displayLangs": [
    "*"
   ],
   "hotkey": "alt-t",
   "langInMainMenu": true,
   "sourceLang": "en",
   "targetLang": "fr",
   "useGoogleTranslate": true
  },
  "toc": {
   "base_numbering": 1,
   "nav_menu": {},
   "number_sections": true,
   "sideBar": true,
   "skip_h1_title": false,
   "title_cell": "Table of Contents",
   "title_sidebar": "Contents",
   "toc_cell": false,
   "toc_position": {
    "height": "calc(100% - 180px)",
    "left": "10px",
    "top": "150px",
    "width": "296px"
   },
   "toc_section_display": true,
   "toc_window_display": true
  }
 },
 "nbformat": 4,
 "nbformat_minor": 2
}
