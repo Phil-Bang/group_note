{
 "cells": [
  {
   "cell_type": "markdown",
   "metadata": {
    "heading_collapsed": true
   },
   "source": [
    "# 왜 중요할까?"
   ]
  },
  {
   "cell_type": "markdown",
   "metadata": {
    "hidden": true
   },
   "source": [
    "* numerial python = numpy\n",
    "* numpy 배열(array) 제공\n",
    "* 파이썬 리스트와 비슷\n",
    "* 기본 문법으로는 코드량이 많고 계산이 오래 걸림\n",
    "* numpy는 이런 단점을 극복\n",
    "* 특히, 행렬 계산할 때. => 머신러닝, 딥러닝"
   ]
  },
  {
   "cell_type": "markdown",
   "metadata": {
    "heading_collapsed": true
   },
   "source": [
    "# numpy array"
   ]
  },
  {
   "cell_type": "markdown",
   "metadata": {
    "heading_collapsed": true,
    "hidden": true
   },
   "source": [
    "## numpy 라이브러리 임포트"
   ]
  },
  {
   "cell_type": "code",
   "execution_count": null,
   "metadata": {
    "ExecuteTime": {
     "end_time": "2019-05-06T08:54:28.114297Z",
     "start_time": "2019-05-06T08:54:27.982838Z"
    },
    "hidden": true
   },
   "outputs": [],
   "source": [
    "import numpy"
   ]
  },
  {
   "cell_type": "markdown",
   "metadata": {
    "heading_collapsed": true,
    "hidden": true
   },
   "source": [
    "## numpy 요소 생성"
   ]
  },
  {
   "cell_type": "code",
   "execution_count": null,
   "metadata": {
    "ExecuteTime": {
     "end_time": "2019-05-06T08:54:28.123654Z",
     "start_time": "2019-05-06T08:54:28.116053Z"
    },
    "hidden": true
   },
   "outputs": [],
   "source": [
    "array1 = numpy.array([1,2,3,4,1,3,2,4,1])\n",
    "array1"
   ]
  },
  {
   "cell_type": "markdown",
   "metadata": {
    "heading_collapsed": true,
    "hidden": true
   },
   "source": [
    "## 타입확인"
   ]
  },
  {
   "cell_type": "code",
   "execution_count": null,
   "metadata": {
    "ExecuteTime": {
     "end_time": "2019-05-06T08:54:28.164214Z",
     "start_time": "2019-05-06T08:54:28.161249Z"
    },
    "hidden": true
   },
   "outputs": [],
   "source": [
    "# n dimension array\n",
    "type(array1)"
   ]
  },
  {
   "cell_type": "markdown",
   "metadata": {
    "heading_collapsed": true,
    "hidden": true
   },
   "source": [
    "## 형태확인"
   ]
  },
  {
   "cell_type": "code",
   "execution_count": null,
   "metadata": {
    "ExecuteTime": {
     "end_time": "2019-05-06T08:54:28.250366Z",
     "start_time": "2019-05-06T08:54:28.247114Z"
    },
    "hidden": true
   },
   "outputs": [],
   "source": [
    "array1.shape"
   ]
  },
  {
   "cell_type": "markdown",
   "metadata": {
    "heading_collapsed": true,
    "hidden": true
   },
   "source": [
    "## 2차원 배열 생성"
   ]
  },
  {
   "cell_type": "code",
   "execution_count": null,
   "metadata": {
    "ExecuteTime": {
     "end_time": "2019-05-06T08:54:28.335083Z",
     "start_time": "2019-05-06T08:54:28.332525Z"
    },
    "hidden": true
   },
   "outputs": [],
   "source": [
    "array2 = numpy.array([[1,2,3,4], [5,6,7,8], [9,10,11,12]])"
   ]
  },
  {
   "cell_type": "code",
   "execution_count": null,
   "metadata": {
    "ExecuteTime": {
     "end_time": "2019-05-06T08:54:28.340400Z",
     "start_time": "2019-05-06T08:54:28.337705Z"
    },
    "hidden": true
   },
   "outputs": [],
   "source": [
    "type(array2)"
   ]
  },
  {
   "cell_type": "code",
   "execution_count": null,
   "metadata": {
    "ExecuteTime": {
     "end_time": "2019-05-06T08:54:28.345618Z",
     "start_time": "2019-05-06T08:54:28.342519Z"
    },
    "hidden": true
   },
   "outputs": [],
   "source": [
    "array2"
   ]
  },
  {
   "cell_type": "code",
   "execution_count": null,
   "metadata": {
    "ExecuteTime": {
     "end_time": "2019-05-06T08:54:28.350041Z",
     "start_time": "2019-05-06T08:54:28.346984Z"
    },
    "hidden": true
   },
   "outputs": [],
   "source": [
    "array2.shape"
   ]
  },
  {
   "cell_type": "code",
   "execution_count": null,
   "metadata": {
    "ExecuteTime": {
     "end_time": "2019-05-06T08:54:28.354632Z",
     "start_time": "2019-05-06T08:54:28.351498Z"
    },
    "hidden": true
   },
   "outputs": [],
   "source": [
    "array1.size"
   ]
  },
  {
   "cell_type": "code",
   "execution_count": null,
   "metadata": {
    "ExecuteTime": {
     "end_time": "2019-05-06T08:54:28.359210Z",
     "start_time": "2019-05-06T08:54:28.356160Z"
    },
    "hidden": true
   },
   "outputs": [],
   "source": [
    "array2.size"
   ]
  },
  {
   "cell_type": "markdown",
   "metadata": {
    "heading_collapsed": true
   },
   "source": [
    "# 파이썬 리스트를 통해 생성\n",
    "\n",
    "numpy 모듈의 array 메소드에 파라미터로 파이썬 리스트를 넘겨주면 numpy array가 리턴됨"
   ]
  },
  {
   "cell_type": "code",
   "execution_count": null,
   "metadata": {
    "ExecuteTime": {
     "end_time": "2019-05-06T08:54:28.442908Z",
     "start_time": "2019-05-06T08:54:28.439985Z"
    },
    "hidden": true
   },
   "outputs": [],
   "source": [
    "array1 = numpy.array([2, 3, 5, 7, 11, 13, 17, 19, 23, 29, 31])\n",
    "print(array1)"
   ]
  },
  {
   "cell_type": "markdown",
   "metadata": {
    "heading_collapsed": true
   },
   "source": [
    "# 균일한 값으로 생성\n",
    "\n",
    "numpy 모듈의 full 메소드를 사용하면, 모든 값이 같은 numpy array를 생성할 수 있음"
   ]
  },
  {
   "cell_type": "code",
   "execution_count": null,
   "metadata": {
    "ExecuteTime": {
     "end_time": "2019-05-06T08:54:28.528657Z",
     "start_time": "2019-05-06T08:54:28.525498Z"
    },
    "hidden": true
   },
   "outputs": [],
   "source": [
    "array1 = numpy.full(6, 7)    \n",
    "print(array1)"
   ]
  },
  {
   "cell_type": "markdown",
   "metadata": {
    "hidden": true
   },
   "source": [
    "## 모든 값이 0인 numpy array 생성\n",
    "\n",
    "* 모든 값이 0인 numpy array를 생성하기 위해서는 full 메소드를 사용\n",
    "* 더 간편한 방법이 있음"
   ]
  },
  {
   "cell_type": "code",
   "execution_count": null,
   "metadata": {
    "ExecuteTime": {
     "end_time": "2019-05-06T08:54:28.613292Z",
     "start_time": "2019-05-06T08:54:28.610372Z"
    },
    "hidden": true
   },
   "outputs": [],
   "source": [
    "array1 = numpy.full(6, 0)\n",
    "array2 = numpy.zeros(6, dtype=int)\n",
    "    \n",
    "print(array1)\n",
    "print()\n",
    "print(array2)"
   ]
  },
  {
   "cell_type": "markdown",
   "metadata": {
    "hidden": true
   },
   "source": [
    "## 모든 값이 1인 numpy array 생성\n",
    "\n",
    "* 모든 값이 1인 numpy array를 생성하는 것도 비슷\n",
    "* zeros 메소드 대신 ones를 사용"
   ]
  },
  {
   "cell_type": "code",
   "execution_count": null,
   "metadata": {
    "ExecuteTime": {
     "end_time": "2019-05-06T08:54:28.700441Z",
     "start_time": "2019-05-06T08:54:28.696688Z"
    },
    "hidden": true
   },
   "outputs": [],
   "source": [
    "array1 = numpy.full(6, 1)\n",
    "array2 = numpy.ones(6, dtype=int)\n",
    "    \n",
    "print(array1)\n",
    "print()\n",
    "print(array2)"
   ]
  },
  {
   "cell_type": "markdown",
   "metadata": {
    "heading_collapsed": true
   },
   "source": [
    "# 랜덤한 값들로 생성\n",
    "\n",
    "* 임의의 값들로 배열을 생성 ==> numpy의 random 모듈의 random 함수를 사용\n",
    "* numpy 모듈 안에 random이라는 모듈이 있고, 그 안에 또 random이라는 함수가 있음"
   ]
  },
  {
   "cell_type": "code",
   "execution_count": null,
   "metadata": {
    "ExecuteTime": {
     "end_time": "2019-05-06T08:54:28.820674Z",
     "start_time": "2019-05-06T08:54:28.816816Z"
    },
    "hidden": true
   },
   "outputs": [],
   "source": [
    "array1 = numpy.random.random(6)\n",
    "array2 = numpy.random.random(6)\n",
    "    \n",
    "print(array1)\n",
    "print()\n",
    "print(array2)"
   ]
  },
  {
   "cell_type": "markdown",
   "metadata": {
    "heading_collapsed": true
   },
   "source": [
    "# 연속된 값들이 담긴 numpy array 생성\n",
    "\n",
    "* numpy 모듈의 arange 함수를 사용하면 연속된 값들이 담겨 있는 numpy array를 생성할 수 있음\n",
    "* arange 함수는 파이썬의 기본 함수인 range와 굉장히 비슷한 원리로 동작"
   ]
  },
  {
   "cell_type": "markdown",
   "metadata": {
    "heading_collapsed": true,
    "hidden": true
   },
   "source": [
    "## 파라미터 1개\n",
    "\n",
    "arange(m)을 하면 0부터 m-1까지의 값들이 담긴 numpy array가 리턴"
   ]
  },
  {
   "cell_type": "code",
   "execution_count": null,
   "metadata": {
    "ExecuteTime": {
     "end_time": "2019-05-06T08:54:28.893685Z",
     "start_time": "2019-05-06T08:54:28.890810Z"
    },
    "hidden": true
   },
   "outputs": [],
   "source": [
    "array1 = numpy.arange(6)\n",
    "print(array1)"
   ]
  },
  {
   "cell_type": "markdown",
   "metadata": {
    "heading_collapsed": true,
    "hidden": true
   },
   "source": [
    "## 파라미터 2개\n",
    "\n",
    "arange(n, m)을 하면 n부터 m-1까지의 값들이 담긴 numpy array가 리턴"
   ]
  },
  {
   "cell_type": "code",
   "execution_count": null,
   "metadata": {
    "ExecuteTime": {
     "end_time": "2019-05-06T08:54:28.930598Z",
     "start_time": "2019-05-06T08:54:28.927672Z"
    },
    "hidden": true
   },
   "outputs": [],
   "source": [
    "array1 = numpy.arange(2, 7)\n",
    "print(array1)"
   ]
  },
  {
   "cell_type": "markdown",
   "metadata": {
    "heading_collapsed": true,
    "hidden": true
   },
   "source": [
    "## 파라미터 3개\n",
    "\n",
    "arange(n, m, s)를 하면 n부터 m-1까지의 값들 중 간격이 s인 값들이 담긴 numpy array가 리턴됩니다."
   ]
  },
  {
   "cell_type": "code",
   "execution_count": null,
   "metadata": {
    "ExecuteTime": {
     "end_time": "2019-05-06T08:54:28.966622Z",
     "start_time": "2019-05-06T08:54:28.963891Z"
    },
    "hidden": true
   },
   "outputs": [],
   "source": [
    "array1 = numpy.arange(3, 17, 3)\n",
    "print(array1)"
   ]
  },
  {
   "cell_type": "markdown",
   "metadata": {
    "heading_collapsed": true
   },
   "source": [
    "# Alias"
   ]
  },
  {
   "cell_type": "code",
   "execution_count": null,
   "metadata": {
    "ExecuteTime": {
     "end_time": "2019-05-06T08:57:49.131579Z",
     "start_time": "2019-05-06T08:57:49.127907Z"
    },
    "hidden": true
   },
   "outputs": [],
   "source": [
    "import numpy\n",
    "\n",
    "array1 = numpy.full(6, 0)\n",
    "array2 = numpy.zeros(6)\n",
    "array3 = numpy.full(6, 6)\n",
    "array4 = numpy.ones(9)\n",
    "array5 = numpy.random.random(6)\n",
    "array6 = numpy.random.random(10)"
   ]
  },
  {
   "cell_type": "code",
   "execution_count": null,
   "metadata": {
    "ExecuteTime": {
     "end_time": "2019-05-06T08:57:49.548536Z",
     "start_time": "2019-05-06T08:57:49.544932Z"
    },
    "hidden": true
   },
   "outputs": [],
   "source": [
    "import numpy as np\n",
    "\n",
    "array1 = np.full(6, 0)\n",
    "array2 = np.zeros(6)\n",
    "array3 = np.full(6, 6)\n",
    "array4 = np.ones(9)\n",
    "array5 = np.random.random(6)\n",
    "array6 = np.random.random(10)"
   ]
  }
 ],
 "metadata": {
  "hide_input": false,
  "kernelspec": {
   "display_name": "Python 3",
   "language": "python",
   "name": "python3"
  },
  "language_info": {
   "codemirror_mode": {
    "name": "ipython",
    "version": 3
   },
   "file_extension": ".py",
   "mimetype": "text/x-python",
   "name": "python",
   "nbconvert_exporter": "python",
   "pygments_lexer": "ipython3",
   "version": "3.7.3"
  },
  "toc": {
   "base_numbering": 1,
   "nav_menu": {},
   "number_sections": true,
   "sideBar": true,
   "skip_h1_title": false,
   "title_cell": "Table of Contents",
   "title_sidebar": "Contents",
   "toc_cell": false,
   "toc_position": {},
   "toc_section_display": true,
   "toc_window_display": true
  },
  "varInspector": {
   "cols": {
    "lenName": 16,
    "lenType": 16,
    "lenVar": 40
   },
   "kernels_config": {
    "python": {
     "delete_cmd_postfix": "",
     "delete_cmd_prefix": "del ",
     "library": "var_list.py",
     "varRefreshCmd": "print(var_dic_list())"
    },
    "r": {
     "delete_cmd_postfix": ") ",
     "delete_cmd_prefix": "rm(",
     "library": "var_list.r",
     "varRefreshCmd": "cat(var_dic_list()) "
    }
   },
   "types_to_exclude": [
    "module",
    "function",
    "builtin_function_or_method",
    "instance",
    "_Feature"
   ],
   "window_display": false
  }
 },
 "nbformat": 4,
 "nbformat_minor": 2
}
