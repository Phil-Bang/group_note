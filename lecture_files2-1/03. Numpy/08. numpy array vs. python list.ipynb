{
 "cells": [
  {
   "cell_type": "markdown",
   "metadata": {},
   "source": [
    "# 문법 차이\n",
    "\n",
    "* 사칙연산이 다름"
   ]
  },
  {
   "cell_type": "markdown",
   "metadata": {},
   "source": [
    "## numpy array"
   ]
  },
  {
   "cell_type": "code",
   "execution_count": null,
   "metadata": {
    "ExecuteTime": {
     "end_time": "2019-04-29T09:48:20.570617Z",
     "start_time": "2019-04-29T09:48:20.554663Z"
    }
   },
   "outputs": [],
   "source": [
    "a = np.array([10, 5, 3, 7, 1, 5])\n",
    "b = np.array([10, 5, 3, 7, 1, 5])\n",
    "\n",
    "a + b"
   ]
  },
  {
   "cell_type": "markdown",
   "metadata": {},
   "source": [
    "## python list\n",
    "\n",
    "뺄셈, 나눗셈은 오류다."
   ]
  },
  {
   "cell_type": "code",
   "execution_count": null,
   "metadata": {
    "ExecuteTime": {
     "end_time": "2019-04-29T09:48:52.683011Z",
     "start_time": "2019-04-29T09:48:52.676250Z"
    }
   },
   "outputs": [],
   "source": [
    "a = [10, 5, 3, 7, 1, 5]\n",
    "b = [10, 5, 3, 7, 1, 5]\n",
    "\n",
    "a + b"
   ]
  },
  {
   "cell_type": "markdown",
   "metadata": {},
   "source": [
    "# 성능차이"
   ]
  },
  {
   "cell_type": "code",
   "execution_count": null,
   "metadata": {
    "ExecuteTime": {
     "end_time": "2019-04-29T09:54:20.728501Z",
     "start_time": "2019-04-29T09:53:56.512039Z"
    }
   },
   "outputs": [],
   "source": [
    "import numpy as np\n",
    "from timeit import timeit\n",
    "\n",
    "x = np.arange(100000000)\n",
    "y = list(range(100000000))\n",
    "\n",
    "print(timeit(lambda: [n * 2 for n in y], number=1))\n",
    "print(timeit(lambda: x * 2, number=1))"
   ]
  },
  {
   "cell_type": "markdown",
   "metadata": {},
   "source": [
    "수치계산이 많고 복잡할 때, 행렬같은 다차원 배열의 경우는 numpy를 사용한다."
   ]
  }
 ],
 "metadata": {
  "hide_input": false,
  "kernelspec": {
   "display_name": "Python 3",
   "language": "python",
   "name": "python3"
  },
  "language_info": {
   "codemirror_mode": {
    "name": "ipython",
    "version": 3
   },
   "file_extension": ".py",
   "mimetype": "text/x-python",
   "name": "python",
   "nbconvert_exporter": "python",
   "pygments_lexer": "ipython3",
   "version": "3.7.3"
  },
  "toc": {
   "base_numbering": 1,
   "nav_menu": {},
   "number_sections": true,
   "sideBar": true,
   "skip_h1_title": false,
   "title_cell": "Table of Contents",
   "title_sidebar": "Contents",
   "toc_cell": false,
   "toc_position": {},
   "toc_section_display": true,
   "toc_window_display": true
  },
  "varInspector": {
   "cols": {
    "lenName": 16,
    "lenType": 16,
    "lenVar": 40
   },
   "kernels_config": {
    "python": {
     "delete_cmd_postfix": "",
     "delete_cmd_prefix": "del ",
     "library": "var_list.py",
     "varRefreshCmd": "print(var_dic_list())"
    },
    "r": {
     "delete_cmd_postfix": ") ",
     "delete_cmd_prefix": "rm(",
     "library": "var_list.r",
     "varRefreshCmd": "cat(var_dic_list()) "
    }
   },
   "types_to_exclude": [
    "module",
    "function",
    "builtin_function_or_method",
    "instance",
    "_Feature"
   ],
   "window_display": false
  }
 },
 "nbformat": 4,
 "nbformat_minor": 2
}
