{
 "cells": [
  {
   "cell_type": "markdown",
   "metadata": {
    "heading_collapsed": true
   },
   "source": [
    "# 제목쓰기"
   ]
  },
  {
   "cell_type": "markdown",
   "metadata": {
    "hidden": true
   },
   "source": [
    "마크다운\n",
    "\n",
    "```markdown\n",
    "\n",
    "# 이것은 1단계 제목\n",
    "## 이것은 2단계 제목\n",
    "### 이것은 3단계 제목\n",
    "#### 이것은 4단계 제목\n",
    "\n",
    "\n",
    "이것은 일반 글\n",
    "```\n",
    "그냥 글\n",
    "\n",
    "# 이것은 1단계 제목\n",
    "## 이것은 2단계 제목\n",
    "### 이것은 3단계 제목\n",
    "#### 이것은 4단계 제목\n",
    "\n",
    "\n",
    "이것은 일반 글"
   ]
  },
  {
   "cell_type": "markdown",
   "metadata": {
    "heading_collapsed": true
   },
   "source": [
    "# 번호글"
   ]
  },
  {
   "cell_type": "markdown",
   "metadata": {
    "hidden": true
   },
   "source": [
    "마크 다운\n",
    "\n",
    "\n",
    "```markdown\n",
    "1. 첫 번째 번호\n",
    "2. 두 번째 번호\n",
    "3. 세 번째 번호\n",
    "\n",
    "1. 첫 번째 번호\n",
    "1. 두 번째 번호\n",
    "1. 세 번째 번호\n",
    "```\n",
    "\n",
    "적용\n",
    "\n",
    "1. 첫 번째 번호\n",
    "2. 두 번째 번호\n",
    "3. 세 번째 번호\n",
    "\n",
    "\n",
    "1. 첫 번째 번호\n",
    "1. 두 번째 번호\n",
    "1. 세 번째 번호"
   ]
  },
  {
   "cell_type": "markdown",
   "metadata": {
    "heading_collapsed": true
   },
   "source": [
    "# 번호 없는 글"
   ]
  },
  {
   "cell_type": "markdown",
   "metadata": {
    "hidden": true
   },
   "source": [
    "```markdown\n",
    "* 번호가 없는 목록\n",
    "  * 번호가 없는 목록\n",
    "    * 번호가 없는 목록\n",
    "\n",
    "- 번호가 없는 목록\n",
    "  - 번호가 없는 목록\n",
    "    - 번호가 없는 목록\n",
    "\n",
    "* 번호가 없는 목록\n",
    "  - 번호가 없는 목록\n",
    "    - 번호가 없는 목록\n",
    "\n",
    "```"
   ]
  },
  {
   "cell_type": "markdown",
   "metadata": {
    "heading_collapsed": true
   },
   "source": [
    "# 문단 바꿈"
   ]
  },
  {
   "cell_type": "markdown",
   "metadata": {
    "hidden": true
   },
   "source": [
    "```markdown\n",
    "Enter 입력\n",
    "```"
   ]
  },
  {
   "cell_type": "markdown",
   "metadata": {
    "heading_collapsed": true
   },
   "source": [
    "# 문자 강조"
   ]
  },
  {
   "cell_type": "markdown",
   "metadata": {
    "hidden": true
   },
   "source": [
    "```markdown\n",
    "*이탤릭체* \n",
    "_이탤릭체_\n",
    "\n",
    "**볼드체**\n",
    "__볼드체__\n",
    "\n",
    "***볼드 이탤릭체***\n",
    "___볼드 이탤릭체___\n",
    "\n",
    "~~취소~~\n",
    "```"
   ]
  },
  {
   "cell_type": "markdown",
   "metadata": {
    "heading_collapsed": true
   },
   "source": [
    "# 링크 ##"
   ]
  },
  {
   "cell_type": "markdown",
   "metadata": {
    "hidden": true
   },
   "source": [
    "```markdown\n",
    "[Google](https://www.google.com/)\n",
    "```"
   ]
  },
  {
   "cell_type": "markdown",
   "metadata": {
    "heading_collapsed": true
   },
   "source": [
    "# 이미지"
   ]
  },
  {
   "cell_type": "markdown",
   "metadata": {
    "hidden": true
   },
   "source": [
    "```markdown\n",
    "![Google](./google.png)\n",
    "```"
   ]
  },
  {
   "cell_type": "markdown",
   "metadata": {
    "heading_collapsed": true
   },
   "source": [
    "# 코드 블록"
   ]
  },
  {
   "cell_type": "markdown",
   "metadata": {
    "hidden": true
   },
   "source": [
    "```markdown\n",
    "\n",
    "```python\n",
    "print(\"Hello Python\")\n",
    "```\n",
    "\n",
    "```"
   ]
  },
  {
   "cell_type": "markdown",
   "metadata": {
    "heading_collapsed": true
   },
   "source": [
    "# 인라인 코드"
   ]
  },
  {
   "cell_type": "markdown",
   "metadata": {
    "hidden": true
   },
   "source": [
    "```markdown\n",
    "나는 인라인 `print` 코드\n",
    "```"
   ]
  },
  {
   "cell_type": "markdown",
   "metadata": {
    "heading_collapsed": true
   },
   "source": [
    "# 구분선"
   ]
  },
  {
   "cell_type": "markdown",
   "metadata": {
    "hidden": true
   },
   "source": [
    "```markdown\n",
    "----\n",
    "```"
   ]
  },
  {
   "cell_type": "markdown",
   "metadata": {
    "heading_collapsed": true
   },
   "source": [
    "# 표"
   ]
  },
  {
   "cell_type": "markdown",
   "metadata": {
    "hidden": true
   },
   "source": [
    "```markdown\n",
    "| 컬럼1 | 컬럼2 | 컬럼3 |\n",
    "|:---|:---|:---|\n",
    "| 컬럼1 | 컬럼2 | 컬럼3 |\n",
    "| 컬럼1 | 컬럼2 | 컬럼3 |\n",
    "```"
   ]
  }
 ],
 "metadata": {
  "hide_input": false,
  "kernelspec": {
   "display_name": "Python 3",
   "language": "python",
   "name": "python3"
  },
  "language_info": {
   "codemirror_mode": {
    "name": "ipython",
    "version": 3
   },
   "file_extension": ".py",
   "mimetype": "text/x-python",
   "name": "python",
   "nbconvert_exporter": "python",
   "pygments_lexer": "ipython3",
   "version": "3.7.3"
  },
  "toc": {
   "base_numbering": 1,
   "nav_menu": {},
   "number_sections": true,
   "sideBar": true,
   "skip_h1_title": false,
   "title_cell": "Table of Contents",
   "title_sidebar": "Contents",
   "toc_cell": false,
   "toc_position": {},
   "toc_section_display": true,
   "toc_window_display": true
  },
  "varInspector": {
   "cols": {
    "lenName": 16,
    "lenType": 16,
    "lenVar": 40
   },
   "kernels_config": {
    "python": {
     "delete_cmd_postfix": "",
     "delete_cmd_prefix": "del ",
     "library": "var_list.py",
     "varRefreshCmd": "print(var_dic_list())"
    },
    "r": {
     "delete_cmd_postfix": ") ",
     "delete_cmd_prefix": "rm(",
     "library": "var_list.r",
     "varRefreshCmd": "cat(var_dic_list()) "
    }
   },
   "types_to_exclude": [
    "module",
    "function",
    "builtin_function_or_method",
    "instance",
    "_Feature"
   ],
   "window_display": false
  }
 },
 "nbformat": 4,
 "nbformat_minor": 2
}
