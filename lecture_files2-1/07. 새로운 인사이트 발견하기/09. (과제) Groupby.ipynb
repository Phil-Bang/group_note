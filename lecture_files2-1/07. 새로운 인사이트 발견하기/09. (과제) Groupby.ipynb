{
 "cells": [
  {
   "cell_type": "markdown",
   "metadata": {},
   "source": [
    "# 문제 1\n",
    "\n",
    "* 직업과 나이, 성별 등에 대한 데이터가 `data/occupations.csv`\n",
    "* `groupby` 문법을 사용해서 '평균 나이'가 어린 순으로 직업을 나열하라."
   ]
  },
  {
   "cell_type": "code",
   "execution_count": null,
   "metadata": {
    "ExecuteTime": {
     "end_time": "2019-05-06T13:08:10.373239Z",
     "start_time": "2019-05-06T13:08:10.031925Z"
    }
   },
   "outputs": [],
   "source": [
    "import pandas as pd\n",
    "\n",
    "df = pd.read_csv('data/occupations.csv')"
   ]
  },
  {
   "cell_type": "markdown",
   "metadata": {},
   "source": [
    "# 문제 2\n",
    "\n",
    "* `groupby` 문법을 사용해서 '여성 비율'이 높은 순으로 직업을 나열하라\n",
    "* DataFrame이 아닌 Series로, `'gender'`에 대한 값만 아래와 같이 출력되어야 한다.\n",
    "\n",
    "```\n",
    "occupation\n",
    "homemaker        0.857143\n",
    "healthcare       0.687500\n",
    "librarian        0.568627\n",
    "artist           0.464286\n",
    "administrator    0.455696\n",
    "none             0.444444\n",
    "writer           0.422222\n",
    "marketing        0.384615\n",
    "other            0.342857\n",
    "student          0.306122\n",
    "educator         0.273684\n",
    "salesman         0.250000\n",
    "lawyer           0.166667\n",
    "entertainment    0.111111\n",
    "scientist        0.096774\n",
    "executive        0.093750\n",
    "programmer       0.090909\n",
    "retired          0.071429\n",
    "technician       0.037037\n",
    "engineer         0.029851\n",
    "doctor           0.000000\n",
    "Name: gender, dtype: float64\n",
    "```"
   ]
  },
  {
   "cell_type": "code",
   "execution_count": null,
   "metadata": {
    "ExecuteTime": {
     "end_time": "2019-05-06T13:08:10.409627Z",
     "start_time": "2019-05-06T13:08:10.404222Z"
    }
   },
   "outputs": [],
   "source": [
    "import pandas as pd\n",
    "\n",
    "df = pd.read_csv('data/occupations.csv')"
   ]
  }
 ],
 "metadata": {
  "hide_input": false,
  "kernelspec": {
   "display_name": "Python 3",
   "language": "python",
   "name": "python3"
  },
  "language_info": {
   "codemirror_mode": {
    "name": "ipython",
    "version": 3
   },
   "file_extension": ".py",
   "mimetype": "text/x-python",
   "name": "python",
   "nbconvert_exporter": "python",
   "pygments_lexer": "ipython3",
   "version": "3.7.3"
  },
  "toc": {
   "base_numbering": 1,
   "nav_menu": {},
   "number_sections": true,
   "sideBar": true,
   "skip_h1_title": false,
   "title_cell": "Table of Contents",
   "title_sidebar": "Contents",
   "toc_cell": false,
   "toc_position": {},
   "toc_section_display": true,
   "toc_window_display": false
  },
  "varInspector": {
   "cols": {
    "lenName": 16,
    "lenType": 16,
    "lenVar": 40
   },
   "kernels_config": {
    "python": {
     "delete_cmd_postfix": "",
     "delete_cmd_prefix": "del ",
     "library": "var_list.py",
     "varRefreshCmd": "print(var_dic_list())"
    },
    "r": {
     "delete_cmd_postfix": ") ",
     "delete_cmd_prefix": "rm(",
     "library": "var_list.r",
     "varRefreshCmd": "cat(var_dic_list()) "
    }
   },
   "types_to_exclude": [
    "module",
    "function",
    "builtin_function_or_method",
    "instance",
    "_Feature"
   ],
   "window_display": false
  }
 },
 "nbformat": 4,
 "nbformat_minor": 2
}
