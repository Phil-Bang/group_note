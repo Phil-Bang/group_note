{
 "cells": [
  {
   "cell_type": "markdown",
   "metadata": {},
   "source": [
    "# 문제\n",
    "\n",
    "* 지역번호가 `02`이면 `'서울시'`이고, 지역번호가 `064`라면 `'제주도'`\n",
    "* `'지역번호'` column을 `'지역명'` 으로 변경하고, 아래 규칙에 따라 지역을 수정하라\n",
    "* column을 String type으로 바꿔주기 위해, `read_csv()` 메소드에 `dtype={'지역번호': str}` 옵션 추가\n",
    "\n",
    "| 지역명 | 전화번호           |\n",
    "| ------ | ------------------ |\n",
    "| 서울시 | 02                 |\n",
    "| 경기도 | 031, 032           |\n",
    "| 강원도 | 033                |\n",
    "| 충청도 | 041, 042, 043, 044 |\n",
    "| 부산시 | 051                |\n",
    "| 경상도 | 052, 053, 054, 055 |\n",
    "| 전라도 | 061, 062, 063      |\n",
    "| 제주도 | 064                |\n",
    "| 기타   | 1577, 070          |\n"
   ]
  },
  {
   "cell_type": "code",
   "execution_count": null,
   "metadata": {
    "ExecuteTime": {
     "end_time": "2019-05-06T13:04:38.863595Z",
     "start_time": "2019-05-06T13:04:38.526574Z"
    }
   },
   "outputs": [],
   "source": [
    "import pandas as pd\n",
    "\n",
    "df = pd.read_csv(\"data/museum_3.csv\", dtype={'지역번호': str})"
   ]
  }
 ],
 "metadata": {
  "hide_input": false,
  "kernelspec": {
   "display_name": "Python 3",
   "language": "python",
   "name": "python3"
  },
  "language_info": {
   "codemirror_mode": {
    "name": "ipython",
    "version": 3
   },
   "file_extension": ".py",
   "mimetype": "text/x-python",
   "name": "python",
   "nbconvert_exporter": "python",
   "pygments_lexer": "ipython3",
   "version": "3.7.3"
  },
  "toc": {
   "base_numbering": 1,
   "nav_menu": {},
   "number_sections": true,
   "sideBar": true,
   "skip_h1_title": false,
   "title_cell": "Table of Contents",
   "title_sidebar": "Contents",
   "toc_cell": false,
   "toc_position": {},
   "toc_section_display": true,
   "toc_window_display": false
  },
  "varInspector": {
   "cols": {
    "lenName": 16,
    "lenType": 16,
    "lenVar": 40
   },
   "kernels_config": {
    "python": {
     "delete_cmd_postfix": "",
     "delete_cmd_prefix": "del ",
     "library": "var_list.py",
     "varRefreshCmd": "print(var_dic_list())"
    },
    "r": {
     "delete_cmd_postfix": ") ",
     "delete_cmd_prefix": "rm(",
     "library": "var_list.r",
     "varRefreshCmd": "cat(var_dic_list()) "
    }
   },
   "types_to_exclude": [
    "module",
    "function",
    "builtin_function_or_method",
    "instance",
    "_Feature"
   ],
   "window_display": false
  }
 },
 "nbformat": 4,
 "nbformat_minor": 2
}
