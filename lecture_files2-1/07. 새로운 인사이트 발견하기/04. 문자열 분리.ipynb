{
 "cells": [
  {
   "cell_type": "code",
   "execution_count": null,
   "metadata": {
    "ExecuteTime": {
     "end_time": "2019-05-06T02:28:55.148701Z",
     "start_time": "2019-05-06T02:28:54.918183Z"
    }
   },
   "outputs": [],
   "source": [
    "import pandas as pd"
   ]
  },
  {
   "cell_type": "code",
   "execution_count": null,
   "metadata": {
    "ExecuteTime": {
     "end_time": "2019-05-06T02:29:09.315147Z",
     "start_time": "2019-05-06T02:29:09.274238Z"
    }
   },
   "outputs": [],
   "source": [
    "df = pd.read_csv(\"./data/parks.csv\")\n",
    "df.head()"
   ]
  },
  {
   "cell_type": "code",
   "execution_count": null,
   "metadata": {
    "ExecuteTime": {
     "end_time": "2019-05-06T02:30:05.222322Z",
     "start_time": "2019-05-06T02:30:05.197496Z"
    }
   },
   "outputs": [],
   "source": [
    "df[\"소재지도로명주소\"].str.split()"
   ]
  },
  {
   "cell_type": "code",
   "execution_count": null,
   "metadata": {
    "ExecuteTime": {
     "end_time": "2019-05-06T02:30:18.323860Z",
     "start_time": "2019-05-06T02:30:18.306470Z"
    }
   },
   "outputs": [],
   "source": [
    "# 첫 번째 띄어쓰기만 나누기\n",
    "df[\"소재지도로명주소\"].str.split(n=1)"
   ]
  },
  {
   "cell_type": "code",
   "execution_count": null,
   "metadata": {
    "ExecuteTime": {
     "end_time": "2019-05-06T02:30:48.238711Z",
     "start_time": "2019-05-06T02:30:48.210645Z"
    }
   },
   "outputs": [],
   "source": [
    "df[\"소재지도로명주소\"].str.split(n=1, expand=True)"
   ]
  },
  {
   "cell_type": "code",
   "execution_count": null,
   "metadata": {
    "ExecuteTime": {
     "end_time": "2019-05-06T02:31:00.483017Z",
     "start_time": "2019-05-06T02:31:00.462589Z"
    }
   },
   "outputs": [],
   "source": [
    "address = df[\"소재지도로명주소\"].str.split(n=1, expand=True)"
   ]
  },
  {
   "cell_type": "code",
   "execution_count": null,
   "metadata": {
    "ExecuteTime": {
     "end_time": "2019-05-06T02:31:02.313931Z",
     "start_time": "2019-05-06T02:31:02.300846Z"
    }
   },
   "outputs": [],
   "source": [
    "address"
   ]
  },
  {
   "cell_type": "code",
   "execution_count": null,
   "metadata": {
    "ExecuteTime": {
     "end_time": "2019-05-06T02:31:15.149934Z",
     "start_time": "2019-05-06T02:31:15.146369Z"
    }
   },
   "outputs": [],
   "source": [
    "df[\"관할구역\"] = address[0]"
   ]
  },
  {
   "cell_type": "code",
   "execution_count": null,
   "metadata": {
    "ExecuteTime": {
     "end_time": "2019-05-06T02:31:16.812888Z",
     "start_time": "2019-05-06T02:31:16.789442Z"
    }
   },
   "outputs": [],
   "source": [
    "df"
   ]
  }
 ],
 "metadata": {
  "hide_input": false,
  "kernelspec": {
   "display_name": "Python 3",
   "language": "python",
   "name": "python3"
  },
  "language_info": {
   "codemirror_mode": {
    "name": "ipython",
    "version": 3
   },
   "file_extension": ".py",
   "mimetype": "text/x-python",
   "name": "python",
   "nbconvert_exporter": "python",
   "pygments_lexer": "ipython3",
   "version": "3.7.3"
  },
  "toc": {
   "base_numbering": 1,
   "nav_menu": {},
   "number_sections": true,
   "sideBar": true,
   "skip_h1_title": false,
   "title_cell": "Table of Contents",
   "title_sidebar": "Contents",
   "toc_cell": false,
   "toc_position": {},
   "toc_section_display": true,
   "toc_window_display": false
  },
  "varInspector": {
   "cols": {
    "lenName": 16,
    "lenType": 16,
    "lenVar": 40
   },
   "kernels_config": {
    "python": {
     "delete_cmd_postfix": "",
     "delete_cmd_prefix": "del ",
     "library": "var_list.py",
     "varRefreshCmd": "print(var_dic_list())"
    },
    "r": {
     "delete_cmd_postfix": ") ",
     "delete_cmd_prefix": "rm(",
     "library": "var_list.r",
     "varRefreshCmd": "cat(var_dic_list()) "
    }
   },
   "types_to_exclude": [
    "module",
    "function",
    "builtin_function_or_method",
    "instance",
    "_Feature"
   ],
   "window_display": false
  }
 },
 "nbformat": 4,
 "nbformat_minor": 2
}
