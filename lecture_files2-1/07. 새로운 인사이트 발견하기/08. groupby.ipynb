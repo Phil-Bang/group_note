{
 "cells": [
  {
   "cell_type": "code",
   "execution_count": null,
   "metadata": {
    "ExecuteTime": {
     "end_time": "2019-05-06T13:05:37.317710Z",
     "start_time": "2019-05-06T13:05:37.048735Z"
    }
   },
   "outputs": [],
   "source": [
    "%matplotlib inline"
   ]
  },
  {
   "cell_type": "code",
   "execution_count": null,
   "metadata": {
    "ExecuteTime": {
     "end_time": "2019-05-06T13:05:37.526076Z",
     "start_time": "2019-05-06T13:05:37.319317Z"
    }
   },
   "outputs": [],
   "source": [
    "import pandas as pd"
   ]
  },
  {
   "cell_type": "code",
   "execution_count": null,
   "metadata": {
    "ExecuteTime": {
     "end_time": "2019-05-06T13:05:37.534291Z",
     "start_time": "2019-05-06T13:05:37.527589Z"
    }
   },
   "outputs": [],
   "source": [
    "df = pd.read_csv(\"./data/laptops.csv\")"
   ]
  },
  {
   "cell_type": "code",
   "execution_count": null,
   "metadata": {
    "ExecuteTime": {
     "end_time": "2019-05-06T13:05:37.551861Z",
     "start_time": "2019-05-06T13:05:37.536105Z"
    }
   },
   "outputs": [],
   "source": [
    "df.head()"
   ]
  },
  {
   "cell_type": "code",
   "execution_count": null,
   "metadata": {
    "ExecuteTime": {
     "end_time": "2019-05-06T13:05:37.556156Z",
     "start_time": "2019-05-06T13:05:37.553328Z"
    }
   },
   "outputs": [],
   "source": [
    "brand_nation = {\n",
    "    \"Dell\":\"U.S.\",\n",
    "    \"Apple\":\"U.S.\",\n",
    "    \"Acer\":\"Taiwan\",\n",
    "    \"HP\":\"U.S.\",\n",
    "    \"Lenovo\":\"China\",\n",
    "    \"Alienware\":\"U.S.\",\n",
    "    \"Microsoft\":\"U.S.\",\n",
    "    \"Asus\":\"Taiwan\"\n",
    "}"
   ]
  },
  {
   "cell_type": "code",
   "execution_count": null,
   "metadata": {
    "ExecuteTime": {
     "end_time": "2019-05-06T13:05:37.563076Z",
     "start_time": "2019-05-06T13:05:37.557476Z"
    }
   },
   "outputs": [],
   "source": [
    "df['brand'].map(brand_nation)"
   ]
  },
  {
   "cell_type": "code",
   "execution_count": null,
   "metadata": {
    "ExecuteTime": {
     "end_time": "2019-05-06T13:05:37.567778Z",
     "start_time": "2019-05-06T13:05:37.564281Z"
    }
   },
   "outputs": [],
   "source": [
    "df[\"brand_nation\"] = df['brand'].map(brand_nation)"
   ]
  },
  {
   "cell_type": "code",
   "execution_count": null,
   "metadata": {
    "ExecuteTime": {
     "end_time": "2019-05-06T13:05:37.613258Z",
     "start_time": "2019-05-06T13:05:37.570061Z"
    }
   },
   "outputs": [],
   "source": [
    "df"
   ]
  },
  {
   "cell_type": "code",
   "execution_count": null,
   "metadata": {
    "ExecuteTime": {
     "end_time": "2019-05-06T13:05:37.618338Z",
     "start_time": "2019-05-06T13:05:37.615332Z"
    }
   },
   "outputs": [],
   "source": [
    "brand_nation_groups = df.groupby(\"brand_nation\")"
   ]
  },
  {
   "cell_type": "code",
   "execution_count": null,
   "metadata": {
    "ExecuteTime": {
     "end_time": "2019-05-06T13:05:37.622975Z",
     "start_time": "2019-05-06T13:05:37.619744Z"
    }
   },
   "outputs": [],
   "source": [
    "type(brand_nation_groups)"
   ]
  },
  {
   "cell_type": "code",
   "execution_count": null,
   "metadata": {
    "ExecuteTime": {
     "end_time": "2019-05-06T13:05:37.635315Z",
     "start_time": "2019-05-06T13:05:37.624313Z"
    }
   },
   "outputs": [],
   "source": [
    "brand_nation_groups.count()"
   ]
  },
  {
   "cell_type": "code",
   "execution_count": null,
   "metadata": {
    "ExecuteTime": {
     "end_time": "2019-05-06T13:05:37.706941Z",
     "start_time": "2019-05-06T13:05:37.636574Z"
    }
   },
   "outputs": [],
   "source": [
    "brand_nation_groups.max()"
   ]
  },
  {
   "cell_type": "code",
   "execution_count": null,
   "metadata": {
    "ExecuteTime": {
     "end_time": "2019-05-06T13:05:37.778588Z",
     "start_time": "2019-05-06T13:05:37.708143Z"
    }
   },
   "outputs": [],
   "source": [
    "brand_nation_groups.min()"
   ]
  },
  {
   "cell_type": "code",
   "execution_count": null,
   "metadata": {
    "ExecuteTime": {
     "end_time": "2019-05-06T13:05:37.789932Z",
     "start_time": "2019-05-06T13:05:37.780171Z"
    }
   },
   "outputs": [],
   "source": [
    "brand_nation_groups.mean()"
   ]
  },
  {
   "cell_type": "code",
   "execution_count": null,
   "metadata": {
    "ExecuteTime": {
     "end_time": "2019-05-06T13:05:37.805849Z",
     "start_time": "2019-05-06T13:05:37.791194Z"
    }
   },
   "outputs": [],
   "source": [
    "brand_nation_groups.first()"
   ]
  },
  {
   "cell_type": "code",
   "execution_count": null,
   "metadata": {
    "ExecuteTime": {
     "end_time": "2019-05-06T13:05:37.821737Z",
     "start_time": "2019-05-06T13:05:37.807352Z"
    }
   },
   "outputs": [],
   "source": [
    "brand_nation_groups.last()"
   ]
  },
  {
   "cell_type": "code",
   "execution_count": null,
   "metadata": {
    "ExecuteTime": {
     "end_time": "2019-05-06T13:05:38.105738Z",
     "start_time": "2019-05-06T13:05:37.823092Z"
    }
   },
   "outputs": [],
   "source": [
    "brand_nation_groups.plot(kind=\"box\", y=\"price\")"
   ]
  },
  {
   "cell_type": "code",
   "execution_count": null,
   "metadata": {
    "ExecuteTime": {
     "end_time": "2019-05-06T13:05:38.493387Z",
     "start_time": "2019-05-06T13:05:38.106795Z"
    }
   },
   "outputs": [],
   "source": [
    "brand_nation_groups.plot(kind=\"hist\", y=\"price\")"
   ]
  }
 ],
 "metadata": {
  "hide_input": false,
  "kernelspec": {
   "display_name": "Python 3",
   "language": "python",
   "name": "python3"
  },
  "language_info": {
   "codemirror_mode": {
    "name": "ipython",
    "version": 3
   },
   "file_extension": ".py",
   "mimetype": "text/x-python",
   "name": "python",
   "nbconvert_exporter": "python",
   "pygments_lexer": "ipython3",
   "version": "3.7.3"
  },
  "toc": {
   "base_numbering": 1,
   "nav_menu": {},
   "number_sections": true,
   "sideBar": true,
   "skip_h1_title": false,
   "title_cell": "Table of Contents",
   "title_sidebar": "Contents",
   "toc_cell": false,
   "toc_position": {},
   "toc_section_display": true,
   "toc_window_display": false
  },
  "varInspector": {
   "cols": {
    "lenName": 16,
    "lenType": 16,
    "lenVar": 40
   },
   "kernels_config": {
    "python": {
     "delete_cmd_postfix": "",
     "delete_cmd_prefix": "del ",
     "library": "var_list.py",
     "varRefreshCmd": "print(var_dic_list())"
    },
    "r": {
     "delete_cmd_postfix": ") ",
     "delete_cmd_prefix": "rm(",
     "library": "var_list.r",
     "varRefreshCmd": "cat(var_dic_list()) "
    }
   },
   "types_to_exclude": [
    "module",
    "function",
    "builtin_function_or_method",
    "instance",
    "_Feature"
   ],
   "window_display": false
  }
 },
 "nbformat": 4,
 "nbformat_minor": 2
}
