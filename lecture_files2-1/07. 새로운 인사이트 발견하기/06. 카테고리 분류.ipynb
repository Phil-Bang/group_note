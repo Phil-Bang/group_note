{
 "cells": [
  {
   "cell_type": "code",
   "execution_count": null,
   "metadata": {
    "ExecuteTime": {
     "end_time": "2019-05-06T13:02:10.617931Z",
     "start_time": "2019-05-06T13:02:10.350579Z"
    }
   },
   "outputs": [],
   "source": [
    "%matplotlib inline"
   ]
  },
  {
   "cell_type": "code",
   "execution_count": null,
   "metadata": {
    "ExecuteTime": {
     "end_time": "2019-05-06T13:02:10.826210Z",
     "start_time": "2019-05-06T13:02:10.619483Z"
    }
   },
   "outputs": [],
   "source": [
    "import pandas as pd"
   ]
  },
  {
   "cell_type": "code",
   "execution_count": null,
   "metadata": {
    "ExecuteTime": {
     "end_time": "2019-05-06T13:02:10.846638Z",
     "start_time": "2019-05-06T13:02:10.827720Z"
    }
   },
   "outputs": [],
   "source": [
    "df = pd.read_csv(\"./data/laptops.csv\")\n",
    "df.head()"
   ]
  },
  {
   "cell_type": "code",
   "execution_count": null,
   "metadata": {
    "ExecuteTime": {
     "end_time": "2019-05-06T13:02:10.851261Z",
     "start_time": "2019-05-06T13:02:10.848536Z"
    }
   },
   "outputs": [],
   "source": [
    "brand_nation = {\n",
    "    \"Dell\":\"U.S.\",\n",
    "    \"Apple\":\"U.S.\",\n",
    "    \"Acer\":\"Taiwan\",\n",
    "    \"HP\":\"U.S.\",\n",
    "    \"Lenovo\":\"China\",\n",
    "    \"Alienware\":\"U.S.\",\n",
    "    \"Microsoft\":\"U.S.\",\n",
    "    \"Asus\":\"Taiwan\"\n",
    "}"
   ]
  },
  {
   "cell_type": "code",
   "execution_count": null,
   "metadata": {
    "ExecuteTime": {
     "end_time": "2019-05-06T13:02:10.857561Z",
     "start_time": "2019-05-06T13:02:10.852477Z"
    }
   },
   "outputs": [],
   "source": [
    "df['brand']"
   ]
  },
  {
   "cell_type": "code",
   "execution_count": null,
   "metadata": {
    "ExecuteTime": {
     "end_time": "2019-05-06T13:02:10.864356Z",
     "start_time": "2019-05-06T13:02:10.858907Z"
    }
   },
   "outputs": [],
   "source": [
    "# brand 컬럼을 맵에 맞춰서 바꿔줌\n",
    "df['brand'].map(brand_nation)"
   ]
  },
  {
   "cell_type": "code",
   "execution_count": null,
   "metadata": {
    "ExecuteTime": {
     "end_time": "2019-05-06T13:02:10.869132Z",
     "start_time": "2019-05-06T13:02:10.865570Z"
    }
   },
   "outputs": [],
   "source": [
    "df[\"brand_nation\"] = df['brand'].map(brand_nation)"
   ]
  },
  {
   "cell_type": "code",
   "execution_count": null,
   "metadata": {
    "ExecuteTime": {
     "end_time": "2019-05-06T13:02:10.917490Z",
     "start_time": "2019-05-06T13:02:10.871462Z"
    }
   },
   "outputs": [],
   "source": [
    "df"
   ]
  }
 ],
 "metadata": {
  "hide_input": false,
  "kernelspec": {
   "display_name": "Python 3",
   "language": "python",
   "name": "python3"
  },
  "language_info": {
   "codemirror_mode": {
    "name": "ipython",
    "version": 3
   },
   "file_extension": ".py",
   "mimetype": "text/x-python",
   "name": "python",
   "nbconvert_exporter": "python",
   "pygments_lexer": "ipython3",
   "version": "3.7.3"
  },
  "toc": {
   "base_numbering": 1,
   "nav_menu": {},
   "number_sections": true,
   "sideBar": true,
   "skip_h1_title": false,
   "title_cell": "Table of Contents",
   "title_sidebar": "Contents",
   "toc_cell": false,
   "toc_position": {},
   "toc_section_display": true,
   "toc_window_display": false
  },
  "varInspector": {
   "cols": {
    "lenName": 16,
    "lenType": 16,
    "lenVar": 40
   },
   "kernels_config": {
    "python": {
     "delete_cmd_postfix": "",
     "delete_cmd_prefix": "del ",
     "library": "var_list.py",
     "varRefreshCmd": "print(var_dic_list())"
    },
    "r": {
     "delete_cmd_postfix": ") ",
     "delete_cmd_prefix": "rm(",
     "library": "var_list.r",
     "varRefreshCmd": "cat(var_dic_list()) "
    }
   },
   "types_to_exclude": [
    "module",
    "function",
    "builtin_function_or_method",
    "instance",
    "_Feature"
   ],
   "window_display": false
  }
 },
 "nbformat": 4,
 "nbformat_minor": 2
}
