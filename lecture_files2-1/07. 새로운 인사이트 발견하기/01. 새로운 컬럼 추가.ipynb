{
 "cells": [
  {
   "cell_type": "code",
   "execution_count": null,
   "metadata": {
    "ExecuteTime": {
     "end_time": "2019-05-06T01:33:17.791759Z",
     "start_time": "2019-05-06T01:33:17.642440Z"
    }
   },
   "outputs": [],
   "source": [
    "%matplotlib inline"
   ]
  },
  {
   "cell_type": "code",
   "execution_count": null,
   "metadata": {
    "ExecuteTime": {
     "end_time": "2019-05-06T01:33:23.053813Z",
     "start_time": "2019-05-06T01:33:22.850904Z"
    }
   },
   "outputs": [],
   "source": [
    "import pandas as pd"
   ]
  },
  {
   "cell_type": "code",
   "execution_count": null,
   "metadata": {
    "ExecuteTime": {
     "end_time": "2019-05-06T01:33:45.603119Z",
     "start_time": "2019-05-06T01:33:45.596102Z"
    }
   },
   "outputs": [],
   "source": [
    "df = pd.read_csv(\"./data/broadcast.csv\", index_col=0)"
   ]
  },
  {
   "cell_type": "code",
   "execution_count": null,
   "metadata": {
    "ExecuteTime": {
     "end_time": "2019-05-06T01:33:46.822309Z",
     "start_time": "2019-05-06T01:33:46.809838Z"
    }
   },
   "outputs": [],
   "source": [
    "df"
   ]
  },
  {
   "cell_type": "code",
   "execution_count": null,
   "metadata": {
    "ExecuteTime": {
     "end_time": "2019-05-06T01:34:05.498095Z",
     "start_time": "2019-05-06T01:34:05.313905Z"
    }
   },
   "outputs": [],
   "source": [
    "df.plot()"
   ]
  },
  {
   "cell_type": "code",
   "execution_count": null,
   "metadata": {
    "ExecuteTime": {
     "end_time": "2019-05-06T01:35:20.961417Z",
     "start_time": "2019-05-06T01:35:20.953752Z"
    }
   },
   "outputs": [],
   "source": [
    "df[\"KBS\"] + df[\"MBC\"] + df[\"SBS\"]  + df[\"TV CHOSUN\"] + df[\"JTBC\"] + df[\"Channel A\"] + df[\"MBN\"] "
   ]
  },
  {
   "cell_type": "code",
   "execution_count": null,
   "metadata": {
    "ExecuteTime": {
     "end_time": "2019-05-06T01:35:51.960923Z",
     "start_time": "2019-05-06T01:35:51.955955Z"
    }
   },
   "outputs": [],
   "source": [
    "df.sum(axis=\"columns\")"
   ]
  },
  {
   "cell_type": "code",
   "execution_count": null,
   "metadata": {
    "ExecuteTime": {
     "end_time": "2019-05-06T01:36:05.150347Z",
     "start_time": "2019-05-06T01:36:05.146832Z"
    }
   },
   "outputs": [],
   "source": [
    "df[\"Total\"] = df.sum(axis=\"columns\")"
   ]
  },
  {
   "cell_type": "code",
   "execution_count": null,
   "metadata": {
    "ExecuteTime": {
     "end_time": "2019-05-06T01:36:06.006295Z",
     "start_time": "2019-05-06T01:36:05.994760Z"
    }
   },
   "outputs": [],
   "source": [
    "df"
   ]
  },
  {
   "cell_type": "code",
   "execution_count": null,
   "metadata": {
    "ExecuteTime": {
     "end_time": "2019-05-06T01:36:24.625677Z",
     "start_time": "2019-05-06T01:36:24.464455Z"
    }
   },
   "outputs": [],
   "source": [
    "df.plot(y=\"Total\")"
   ]
  },
  {
   "cell_type": "markdown",
   "metadata": {
    "ExecuteTime": {
     "end_time": "2019-05-06T01:36:43.300521Z",
     "start_time": "2019-05-06T01:36:43.298160Z"
    }
   },
   "source": [
    "유튜브 등을 더 많이 본다고 추측"
   ]
  },
  {
   "cell_type": "code",
   "execution_count": null,
   "metadata": {
    "ExecuteTime": {
     "end_time": "2019-05-06T01:37:24.418592Z",
     "start_time": "2019-05-06T01:37:24.413273Z"
    }
   },
   "outputs": [],
   "source": [
    "df.loc[:, \"KBS\":\"SBS\"].sum(axis=1)"
   ]
  },
  {
   "cell_type": "code",
   "execution_count": null,
   "metadata": {
    "ExecuteTime": {
     "end_time": "2019-05-06T01:38:00.042032Z",
     "start_time": "2019-05-06T01:38:00.036739Z"
    }
   },
   "outputs": [],
   "source": [
    "df[\"Group 1\"] = df.loc[:, \"KBS\":\"SBS\"].sum(axis=1)\n",
    "df[\"Group 2\"] = df.loc[:, \"TV CHOSUN\":\"MBN\"].sum(axis=1)"
   ]
  },
  {
   "cell_type": "code",
   "execution_count": null,
   "metadata": {
    "ExecuteTime": {
     "end_time": "2019-05-06T01:38:08.110541Z",
     "start_time": "2019-05-06T01:38:08.097501Z"
    }
   },
   "outputs": [],
   "source": [
    "df"
   ]
  },
  {
   "cell_type": "code",
   "execution_count": null,
   "metadata": {
    "ExecuteTime": {
     "end_time": "2019-05-06T01:38:37.779296Z",
     "start_time": "2019-05-06T01:38:37.638456Z"
    }
   },
   "outputs": [],
   "source": [
    "df.plot(y=[\"Group 1\", \"Group 2\"])"
   ]
  },
  {
   "cell_type": "markdown",
   "metadata": {},
   "source": [
    "지상파는 줄고, 종편은 늘고"
   ]
  }
 ],
 "metadata": {
  "hide_input": false,
  "kernelspec": {
   "display_name": "Python 3",
   "language": "python",
   "name": "python3"
  },
  "language_info": {
   "codemirror_mode": {
    "name": "ipython",
    "version": 3
   },
   "file_extension": ".py",
   "mimetype": "text/x-python",
   "name": "python",
   "nbconvert_exporter": "python",
   "pygments_lexer": "ipython3",
   "version": "3.7.3"
  },
  "toc": {
   "base_numbering": 1,
   "nav_menu": {},
   "number_sections": true,
   "sideBar": true,
   "skip_h1_title": false,
   "title_cell": "Table of Contents",
   "title_sidebar": "Contents",
   "toc_cell": false,
   "toc_position": {},
   "toc_section_display": true,
   "toc_window_display": false
  },
  "varInspector": {
   "cols": {
    "lenName": 16,
    "lenType": 16,
    "lenVar": 40
   },
   "kernels_config": {
    "python": {
     "delete_cmd_postfix": "",
     "delete_cmd_prefix": "del ",
     "library": "var_list.py",
     "varRefreshCmd": "print(var_dic_list())"
    },
    "r": {
     "delete_cmd_postfix": ") ",
     "delete_cmd_prefix": "rm(",
     "library": "var_list.r",
     "varRefreshCmd": "cat(var_dic_list()) "
    }
   },
   "types_to_exclude": [
    "module",
    "function",
    "builtin_function_or_method",
    "instance",
    "_Feature"
   ],
   "window_display": false
  }
 },
 "nbformat": 4,
 "nbformat_minor": 2
}
