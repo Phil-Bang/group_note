{
 "cells": [
  {
   "cell_type": "markdown",
   "metadata": {
    "heading_collapsed": true
   },
   "source": [
    "# Python은 개발자용 언어?"
   ]
  },
  {
   "cell_type": "markdown",
   "metadata": {
    "hidden": true
   },
   "source": [
    "* Python is ~ **general-purpose programming language**. - *위키피디아*\n",
    "* 임베디드, 웹프로그래밍, 데이터분석, AI 등 안 쓰이는 곳이 없음\n",
    "* 컴퓨터 프로그래밍으로서 범용 개발 언어\n",
    "     1. 다양한 용도로 만들어진 언어\n",
    "     3. 다른 분야로 넘어갈 수 있음\n",
    "     4. 원래 개발을 했다면  Python이 훨씬 유리함\n",
    "     5. 간단하고 직관적인 언어"
   ]
  },
  {
   "cell_type": "markdown",
   "metadata": {
    "heading_collapsed": true
   },
   "source": [
    "# Python으로 데이터 분석?"
   ]
  },
  {
   "cell_type": "markdown",
   "metadata": {
    "hidden": true
   },
   "source": [
    "* 데이터 분석을 위해서 만들어진 언어가 아님\n",
    "* 파이썬으로 할 수 있는 일이 100가지라면 1가지 정도가 데이터 분석임\n",
    "* 따라서 파이썬은 데이터 분석도 할 수 있는 언어\n",
    "* 개발자 입장에서 데이터를 손쉬게 다루기 쉬운 언어\n",
    "* 어떤 시스템에도 Python은 설치되어 있음"
   ]
  },
  {
   "cell_type": "markdown",
   "metadata": {
    "heading_collapsed": true
   },
   "source": [
    "# R은?"
   ]
  },
  {
   "cell_type": "markdown",
   "metadata": {
    "hidden": true
   },
   "source": [
    "* R is .. **for statistical computing and graphics** - *위키피디아*\n",
    "* R은 처음부터 통계를 기반의 데이터 분석을 위해서 만들어진 언어\n",
    "* R로 할 수 있는 일이 100가지라면 99가지가 데이터 분석임\n",
    "* 분석 과정에 꼭 필요한 시각화 기능이 큰 장점\n",
    "* 프로그래밍을 해보지 않은 사람에게 매우 적합한 언어"
   ]
  },
  {
   "cell_type": "markdown",
   "metadata": {
    "heading_collapsed": true
   },
   "source": [
    "# R로 다른 업무 적용?"
   ]
  },
  {
   "cell_type": "markdown",
   "metadata": {
    "hidden": true
   },
   "source": [
    "* R로 분석이 아닌 다른 업무를 할 수 있을까? 할 수 있음\n",
    "* 하지만, 이건 그냥 하드코어 유저들이 그러함, 오타쿠라도 부릅니다.\n",
    "* 물론, 이런 하드코어 유저들 덕분에 오픈소스인 R이 발전하게 되었음\n",
    "* R로 개발적인 일보다는 최대한 분석업무만 하자"
   ]
  },
  {
   "cell_type": "markdown",
   "metadata": {
    "heading_collapsed": true
   },
   "source": [
    "# 데이터 분석을 하고 싶은지? 데이터 분석도 하고 싶은지?"
   ]
  },
  {
   "cell_type": "markdown",
   "metadata": {
    "hidden": true
   },
   "source": [
    "* 분석가가 마지막으로 공들여야 하는 일은 '시각화'와 '보고서'이며, 그것이라면 R만으로도 충분\n",
    "* 내가 만들 분석결과를 시스템에 적용하고 싶으면 Python은 해야 함\n",
    "* R로도 시스템에 녹이는 것은 가능한 일인데, 결과적으로 운영팀이 받아주지 않음\n",
    "* 처음에 R로 분석, 개발 했다가 배치성으로 운영해야 하니 Python으로 Migration 했음"
   ]
  },
  {
   "cell_type": "markdown",
   "metadata": {
    "heading_collapsed": true
   },
   "source": [
    "# 대용량 데이터 다루기 R vs. Python"
   ]
  },
  {
   "cell_type": "markdown",
   "metadata": {
    "hidden": true
   },
   "source": [
    "* 대용량 데이터라면 사이즈는 1기가 이상\n",
    "  * 대용량 데이터와 빅데이터는 경우에 따라 다를 수 있음\n",
    "* 1기가 이상 다루는데, 두 언어 모두 성능은 도찐개찐 => 좋지 못함\n",
    "* 뭘해도 S 언어(R의 조상) 할애비 데리고 와도 대용량 못 다룸\n",
    "* 두 언어 자체로 다룰 수 있다고 얘기하는 사람들은 하드코어 이거나 구라쟁이"
   ]
  },
  {
   "cell_type": "markdown",
   "metadata": {
    "hidden": true
   },
   "source": [
    "## 정말 R/Python으로 대용량 못 다루나?"
   ]
  },
  {
   "cell_type": "markdown",
   "metadata": {
    "hidden": true
   },
   "source": [
    "* Hadoop/Spark를 사용하면 다룰 수 있음\n",
    "* Apache Hadoop\n",
    "  * R은 일부만 사용할 수 있음\n",
    "  * Python은 처리/분석 모두 가능함 그러나 권장하지 않음\n",
    "* Apache Spark\n",
    "  * R/Python 모두 사용할 수 있으나\n",
    "  * Python이 훨씬 많은 레퍼런스를 가지고 있음\n",
    "* 대용량 데이터를 다루기위해서는 Apache Spark + Python = PySpark 최강 조합"
   ]
  },
  {
   "cell_type": "markdown",
   "metadata": {
    "heading_collapsed": true
   },
   "source": [
    "# 결론"
   ]
  },
  {
   "cell_type": "markdown",
   "metadata": {
    "hidden": true
   },
   "source": [
    "* 데이터 분석 언어로서 R과 Python 구분해서 사용하는 것은 어리석은 일\n",
    "* 통계기반의 분석과 시각화는 R이 강함\n",
    "* R/Python, 모두 머신러닝/딥러닝 알고리듬이 있음\n",
    "* 머신러닝/딥러닝 특성상 대용량을 다루어야 하고, 대용량 다루는 PySpark 사용하면 유리.\n",
    "* 분석가의 도구로서 SQL, R, 그리고 Python 3가지 언어는 무조건 알아야 함\n",
    "  * 만일, 적은데이터를 사용할 것이라면 SQL, R이면 충분\n",
    "  * 대용량 데이터를 다룰 것이라면 SQL, R, Python, Spark \n",
    "* **최근 트렌드**\n",
    "  - 현재 Python은 R의 장점을 대부분 흡수하는 상태\n",
    "  - 참고: [KDuggets](https://www.kdnuggets.com/2018/05/poll-tools-analytics-data-science-machine-learning-results.html)\n",
    "\n",
    "![2018년 트랜드](./images/top-analytics-data-science-machine-learning-software-2018-3yrs-539.jpg)"
   ]
  }
 ],
 "metadata": {
  "hide_input": false,
  "kernelspec": {
   "display_name": "Python 3",
   "language": "python",
   "name": "python3"
  },
  "language_info": {
   "codemirror_mode": {
    "name": "ipython",
    "version": 3
   },
   "file_extension": ".py",
   "mimetype": "text/x-python",
   "name": "python",
   "nbconvert_exporter": "python",
   "pygments_lexer": "ipython3",
   "version": "3.7.3"
  },
  "toc": {
   "base_numbering": 1,
   "nav_menu": {},
   "number_sections": true,
   "sideBar": true,
   "skip_h1_title": false,
   "title_cell": "Table of Contents",
   "title_sidebar": "Contents",
   "toc_cell": false,
   "toc_position": {},
   "toc_section_display": true,
   "toc_window_display": true
  },
  "varInspector": {
   "cols": {
    "lenName": 16,
    "lenType": 16,
    "lenVar": 40
   },
   "kernels_config": {
    "python": {
     "delete_cmd_postfix": "",
     "delete_cmd_prefix": "del ",
     "library": "var_list.py",
     "varRefreshCmd": "print(var_dic_list())"
    },
    "r": {
     "delete_cmd_postfix": ") ",
     "delete_cmd_prefix": "rm(",
     "library": "var_list.r",
     "varRefreshCmd": "cat(var_dic_list()) "
    }
   },
   "types_to_exclude": [
    "module",
    "function",
    "builtin_function_or_method",
    "instance",
    "_Feature"
   ],
   "window_display": false
  }
 },
 "nbformat": 4,
 "nbformat_minor": 2
}
