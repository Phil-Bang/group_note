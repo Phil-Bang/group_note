{
 "cells": [
  {
   "cell_type": "markdown",
   "metadata": {
    "heading_collapsed": true
   },
   "source": [
    "# Installation"
   ]
  },
  {
   "cell_type": "markdown",
   "metadata": {
    "heading_collapsed": true,
    "hidden": true
   },
   "source": [
    "## All Installation"
   ]
  },
  {
   "cell_type": "code",
   "execution_count": null,
   "metadata": {
    "ExecuteTime": {
     "end_time": "2019-04-14T07:06:46.097458Z",
     "start_time": "2019-04-14T07:04:58.812254Z"
    },
    "hidden": true
   },
   "outputs": [],
   "source": [
    "# print(\"#################### Package Installation ####################\")\n",
    "\n",
    "# !conda install -y pandas\n",
    "# !conda install -y matplotlib\n",
    "# !conda install -y numpy\n",
    "# !conda install -y -c conda-forge plotnine\n",
    "# !conda install -y -c conda-forge missingno\n",
    "# !conda install -y -c conda-forge folium\n",
    "# !pip install dfply\n",
    "# !conda install -y openpyxl\n",
    "\n",
    "# print(\"#################### Package Installation Done ####################\")"
   ]
  },
  {
   "cell_type": "markdown",
   "metadata": {
    "heading_collapsed": true,
    "hidden": true
   },
   "source": [
    "## Manual Installation"
   ]
  },
  {
   "cell_type": "markdown",
   "metadata": {
    "heading_collapsed": true,
    "hidden": true
   },
   "source": [
    "### Pandas"
   ]
  },
  {
   "cell_type": "code",
   "execution_count": 1,
   "metadata": {
    "ExecuteTime": {
     "end_time": "2019-05-06T08:03:02.902376Z",
     "start_time": "2019-05-06T08:03:02.900013Z"
    },
    "hidden": true
   },
   "outputs": [],
   "source": [
    "# !conda install -y pandas"
   ]
  },
  {
   "cell_type": "markdown",
   "metadata": {
    "heading_collapsed": true,
    "hidden": true
   },
   "source": [
    "### Numpy "
   ]
  },
  {
   "cell_type": "code",
   "execution_count": null,
   "metadata": {
    "ExecuteTime": {
     "end_time": "2019-04-14T07:00:25.509322Z",
     "start_time": "2019-04-14T07:00:25.506444Z"
    },
    "hidden": true
   },
   "outputs": [],
   "source": [
    "# !conda install -y numpy"
   ]
  },
  {
   "cell_type": "markdown",
   "metadata": {
    "heading_collapsed": true,
    "hidden": true
   },
   "source": [
    "### Matplotlib"
   ]
  },
  {
   "cell_type": "code",
   "execution_count": null,
   "metadata": {
    "ExecuteTime": {
     "end_time": "2019-04-14T07:00:22.836914Z",
     "start_time": "2019-04-14T07:00:22.834026Z"
    },
    "hidden": true
   },
   "outputs": [],
   "source": [
    "# !conda install -y matplotlib"
   ]
  },
  {
   "cell_type": "markdown",
   "metadata": {
    "heading_collapsed": true,
    "hidden": true
   },
   "source": [
    "### Plotnine"
   ]
  },
  {
   "cell_type": "code",
   "execution_count": null,
   "metadata": {
    "ExecuteTime": {
     "end_time": "2019-04-14T07:00:18.069394Z",
     "start_time": "2019-04-14T07:00:18.066633Z"
    },
    "hidden": true
   },
   "outputs": [],
   "source": [
    "# !conda install -y -c conda-forge plotnine"
   ]
  },
  {
   "cell_type": "markdown",
   "metadata": {
    "heading_collapsed": true,
    "hidden": true
   },
   "source": [
    "### Missingno"
   ]
  },
  {
   "cell_type": "code",
   "execution_count": null,
   "metadata": {
    "ExecuteTime": {
     "end_time": "2019-04-14T07:00:13.998401Z",
     "start_time": "2019-04-14T07:00:13.995799Z"
    },
    "hidden": true
   },
   "outputs": [],
   "source": [
    "# !conda install -y -c conda-forge missingno"
   ]
  },
  {
   "cell_type": "markdown",
   "metadata": {
    "heading_collapsed": true,
    "hidden": true
   },
   "source": [
    "### Folium"
   ]
  },
  {
   "cell_type": "code",
   "execution_count": null,
   "metadata": {
    "ExecuteTime": {
     "end_time": "2019-04-14T07:00:10.532872Z",
     "start_time": "2019-04-14T07:00:10.530221Z"
    },
    "hidden": true
   },
   "outputs": [],
   "source": [
    "# !conda install -y -c conda-forge folium"
   ]
  },
  {
   "cell_type": "markdown",
   "metadata": {
    "heading_collapsed": true,
    "hidden": true
   },
   "source": [
    "### dfply"
   ]
  },
  {
   "cell_type": "code",
   "execution_count": null,
   "metadata": {
    "ExecuteTime": {
     "end_time": "2019-04-14T07:00:05.966099Z",
     "start_time": "2019-04-14T07:00:05.962660Z"
    },
    "hidden": true
   },
   "outputs": [],
   "source": [
    "# !pip install dfply"
   ]
  },
  {
   "cell_type": "markdown",
   "metadata": {
    "heading_collapsed": true,
    "hidden": true
   },
   "source": [
    "### openpyxl"
   ]
  },
  {
   "cell_type": "code",
   "execution_count": null,
   "metadata": {
    "ExecuteTime": {
     "end_time": "2019-04-15T10:56:02.844225Z",
     "start_time": "2019-04-15T10:55:49.552931Z"
    },
    "hidden": true
   },
   "outputs": [],
   "source": [
    "# !conda install -y openpyxl"
   ]
  },
  {
   "cell_type": "markdown",
   "metadata": {
    "heading_collapsed": true
   },
   "source": [
    "# Uninstallation"
   ]
  },
  {
   "cell_type": "markdown",
   "metadata": {
    "heading_collapsed": true,
    "hidden": true
   },
   "source": [
    "## All Uninstallation"
   ]
  },
  {
   "cell_type": "code",
   "execution_count": null,
   "metadata": {
    "ExecuteTime": {
     "end_time": "2019-04-14T07:04:44.668416Z",
     "start_time": "2019-04-14T07:04:31.608818Z"
    },
    "hidden": true
   },
   "outputs": [],
   "source": [
    "# !conda uninstall -y numpy\n",
    "# !conda uninstall -y matplotlib\n",
    "# !conda uninstall -y plotnine\n",
    "# !conda uninstall -y missingno\n",
    "# !conda uninstall -y folium\n",
    "# !pip uninstall -y dfply\n",
    "# !conda uninstall -y openpyxl"
   ]
  },
  {
   "cell_type": "markdown",
   "metadata": {
    "heading_collapsed": true,
    "hidden": true
   },
   "source": [
    "## Manual Uninstallation"
   ]
  },
  {
   "cell_type": "markdown",
   "metadata": {
    "heading_collapsed": true,
    "hidden": true
   },
   "source": [
    "### Numpy"
   ]
  },
  {
   "cell_type": "code",
   "execution_count": null,
   "metadata": {
    "ExecuteTime": {
     "end_time": "2019-04-14T06:59:56.079519Z",
     "start_time": "2019-04-14T06:59:56.076948Z"
    },
    "hidden": true
   },
   "outputs": [],
   "source": [
    "# !conda uninstall -y numpy"
   ]
  },
  {
   "cell_type": "markdown",
   "metadata": {
    "heading_collapsed": true,
    "hidden": true
   },
   "source": [
    "### Matplotlib"
   ]
  },
  {
   "cell_type": "code",
   "execution_count": null,
   "metadata": {
    "ExecuteTime": {
     "end_time": "2019-04-14T06:59:52.470803Z",
     "start_time": "2019-04-14T06:59:52.468073Z"
    },
    "hidden": true
   },
   "outputs": [],
   "source": [
    "# !conda uninstall -y matplotlib"
   ]
  },
  {
   "cell_type": "markdown",
   "metadata": {
    "heading_collapsed": true,
    "hidden": true
   },
   "source": [
    "### Plotnine"
   ]
  },
  {
   "cell_type": "code",
   "execution_count": null,
   "metadata": {
    "ExecuteTime": {
     "end_time": "2019-04-14T06:59:49.690322Z",
     "start_time": "2019-04-14T06:59:49.686656Z"
    },
    "hidden": true
   },
   "outputs": [],
   "source": [
    "# !conda uninstall -y plotnine"
   ]
  },
  {
   "cell_type": "markdown",
   "metadata": {
    "heading_collapsed": true,
    "hidden": true
   },
   "source": [
    "### Missingno"
   ]
  },
  {
   "cell_type": "code",
   "execution_count": null,
   "metadata": {
    "ExecuteTime": {
     "end_time": "2019-04-14T06:59:46.633568Z",
     "start_time": "2019-04-14T06:59:46.630706Z"
    },
    "hidden": true
   },
   "outputs": [],
   "source": [
    "# !conda uninstall -y missingno"
   ]
  },
  {
   "cell_type": "markdown",
   "metadata": {
    "heading_collapsed": true,
    "hidden": true
   },
   "source": [
    "### Folium"
   ]
  },
  {
   "cell_type": "code",
   "execution_count": null,
   "metadata": {
    "ExecuteTime": {
     "end_time": "2019-04-14T06:59:42.994934Z",
     "start_time": "2019-04-14T06:59:42.991794Z"
    },
    "hidden": true
   },
   "outputs": [],
   "source": [
    "# !conda uninstall -y folium"
   ]
  },
  {
   "cell_type": "markdown",
   "metadata": {
    "heading_collapsed": true,
    "hidden": true
   },
   "source": [
    "### Dfply"
   ]
  },
  {
   "cell_type": "code",
   "execution_count": null,
   "metadata": {
    "ExecuteTime": {
     "end_time": "2019-04-14T06:59:36.691839Z",
     "start_time": "2019-04-14T06:59:36.689169Z"
    },
    "hidden": true
   },
   "outputs": [],
   "source": [
    "# !pip uninstall -y dfply"
   ]
  },
  {
   "cell_type": "markdown",
   "metadata": {
    "ExecuteTime": {
     "end_time": "2019-04-15T10:56:46.650103Z",
     "start_time": "2019-04-15T10:56:46.646896Z"
    },
    "heading_collapsed": true,
    "hidden": true
   },
   "source": [
    "### openpyxl"
   ]
  },
  {
   "cell_type": "code",
   "execution_count": null,
   "metadata": {
    "ExecuteTime": {
     "end_time": "2019-04-15T10:56:53.064852Z",
     "start_time": "2019-04-15T10:56:53.061864Z"
    },
    "hidden": true
   },
   "outputs": [],
   "source": [
    "# !conda uninstall -y openpyxl"
   ]
  }
 ],
 "metadata": {
  "hide_input": false,
  "kernelspec": {
   "display_name": "Python 3",
   "language": "python",
   "name": "python3"
  },
  "language_info": {
   "codemirror_mode": {
    "name": "ipython",
    "version": 3
   },
   "file_extension": ".py",
   "mimetype": "text/x-python",
   "name": "python",
   "nbconvert_exporter": "python",
   "pygments_lexer": "ipython3",
   "version": "3.7.3"
  },
  "toc": {
   "base_numbering": 1,
   "nav_menu": {},
   "number_sections": true,
   "sideBar": true,
   "skip_h1_title": false,
   "title_cell": "Table of Contents",
   "title_sidebar": "Contents",
   "toc_cell": false,
   "toc_position": {},
   "toc_section_display": true,
   "toc_window_display": true
  },
  "varInspector": {
   "cols": {
    "lenName": 16,
    "lenType": 16,
    "lenVar": 40
   },
   "kernels_config": {
    "python": {
     "delete_cmd_postfix": "",
     "delete_cmd_prefix": "del ",
     "library": "var_list.py",
     "varRefreshCmd": "print(var_dic_list())"
    },
    "r": {
     "delete_cmd_postfix": ") ",
     "delete_cmd_prefix": "rm(",
     "library": "var_list.r",
     "varRefreshCmd": "cat(var_dic_list()) "
    }
   },
   "types_to_exclude": [
    "module",
    "function",
    "builtin_function_or_method",
    "instance",
    "_Feature"
   ],
   "window_display": false
  }
 },
 "nbformat": 4,
 "nbformat_minor": 2
}
