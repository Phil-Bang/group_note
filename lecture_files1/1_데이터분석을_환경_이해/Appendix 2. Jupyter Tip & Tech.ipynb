{
 "cells": [
  {
   "cell_type": "markdown",
   "metadata": {
    "heading_collapsed": true
   },
   "source": [
    "# 파일 이름 생성 시 피해야 하는 것"
   ]
  },
  {
   "cell_type": "markdown",
   "metadata": {
    "hidden": true
   },
   "source": [
    "* 한글 사용하지 말 것\n",
    "* 띄어쓰기 사용하지 말 것\n",
    "* 띄어스기 사용하려면 _(언더바) 사용"
   ]
  },
  {
   "cell_type": "markdown",
   "metadata": {
    "cell_style": "center",
    "heading_collapsed": true
   },
   "source": [
    "# 자주 사용하는 단축 키"
   ]
  },
  {
   "cell_type": "markdown",
   "metadata": {
    "ExecuteTime": {
     "end_time": "2019-04-03T00:53:56.734819Z",
     "start_time": "2019-04-03T00:53:56.721947Z"
    },
    "heading_collapsed": true,
    "hidden": true
   },
   "source": [
    "##  모드 전환"
   ]
  },
  {
   "cell_type": "markdown",
   "metadata": {
    "hidden": true
   },
   "source": [
    "* ESC: 명령모드로 진입, 쉘의 색상이 파랑색으로 변경 됨\n",
    "* ESC, M : 마크다운 입력 모드, ESC 누르면 \n",
    "* ESC, Y : 코드 입력 모드"
   ]
  },
  {
   "cell_type": "markdown",
   "metadata": {
    "heading_collapsed": true,
    "hidden": true
   },
   "source": [
    "## 코드 실행"
   ]
  },
  {
   "cell_type": "markdown",
   "metadata": {
    "hidden": true
   },
   "source": [
    "* Ctrl + Enter\n",
    "* Shift + Enter"
   ]
  },
  {
   "cell_type": "markdown",
   "metadata": {
    "heading_collapsed": true,
    "hidden": true
   },
   "source": [
    "## 코드 편집"
   ]
  },
  {
   "cell_type": "markdown",
   "metadata": {
    "hidden": true
   },
   "source": [
    "* Ctrl + Z: Undo\n",
    "* Ctrl + Shift + Z: Redo"
   ]
  },
  {
   "cell_type": "markdown",
   "metadata": {
    "heading_collapsed": true,
    "hidden": true
   },
   "source": [
    "## 자동완성"
   ]
  },
  {
   "cell_type": "markdown",
   "metadata": {
    "hidden": true
   },
   "source": [
    "* Tab"
   ]
  },
  {
   "cell_type": "markdown",
   "metadata": {
    "heading_collapsed": true,
    "hidden": true
   },
   "source": [
    "## 쉘 편집"
   ]
  },
  {
   "cell_type": "markdown",
   "metadata": {
    "hidden": true
   },
   "source": [
    "* ESC, X : 삭제\n",
    "* ESC, A(ppned) : 아래 추가\n",
    "* ESC, B(efore) : 위에 추가"
   ]
  },
  {
   "cell_type": "markdown",
   "metadata": {
    "heading_collapsed": true,
    "hidden": true
   },
   "source": [
    "## 쉘 나누기"
   ]
  },
  {
   "cell_type": "markdown",
   "metadata": {
    "hidden": true
   },
   "source": [
    "* 나누고 싶은 곳의 커서 위치 후\n",
    "* Ctrl + Shift + '-'"
   ]
  },
  {
   "cell_type": "markdown",
   "metadata": {
    "heading_collapsed": true,
    "hidden": true
   },
   "source": [
    "## 쉘 병합"
   ]
  },
  {
   "cell_type": "markdown",
   "metadata": {
    "hidden": true
   },
   "source": [
    "* 아래 쉘을 병합 하므로 합치고 싶은 쉘로 커서 이동\n",
    "* ESC, Shift + M"
   ]
  },
  {
   "cell_type": "markdown",
   "metadata": {
    "heading_collapsed": true,
    "hidden": true
   },
   "source": [
    "## Docstring 표시"
   ]
  },
  {
   "cell_type": "markdown",
   "metadata": {
    "hidden": true
   },
   "source": [
    "* ? : (함수/변수)코드에 '?' 를 붙이고 '코드 실행'\n",
    "* Shift + Tab : (함수/변수)코드에서 실행하면 툴팁으로 확인 가능"
   ]
  },
  {
   "cell_type": "markdown",
   "metadata": {
    "heading_collapsed": true
   },
   "source": [
    "# Git 적용 시, 꼭 실행해야 하는 명령"
   ]
  },
  {
   "cell_type": "markdown",
   "metadata": {
    "hidden": true
   },
   "source": [
    "- Git 적용 시, 깨끗한 코드를 Commit/Push 할 것\n",
    "- Git 적용 시, 에러가 있는 코드는 Commit/Push 하지 말 것\n",
    "- 깨끗한 코드 만드는 방법\n",
    "  - 메뉴바 > Kernel > Restart & Clear Output\n",
    "    - 코드의 결과를 모두 삭제 함\n",
    "    - 그런데, 에러결과 지우므로 인간적으로 실행되는 코드로 변경할 것\n",
    "  - 메뉴바 > Kernel > Restart & Run All\n",
    "    - 실행하게 되면 코드 일련번호 순서로 됨\n",
    "    - 실행 후, 에러가 뜨면 다 수정/삭제 할 것\n",
    "    - 특히, 물리적인 데이터 경로, 데이터 이름 등은 수정하지 말 것"
   ]
  },
  {
   "cell_type": "markdown",
   "metadata": {
    "ExecuteTime": {
     "end_time": "2019-04-03T00:56:48.154000Z",
     "start_time": "2019-04-03T00:56:48.147263Z"
    },
    "heading_collapsed": true
   },
   "source": [
    "# 마크다운"
   ]
  },
  {
   "cell_type": "markdown",
   "metadata": {
    "hidden": true
   },
   "source": [
    "- De facto standard 에요. 쉽습니다. 배우세요. 하루면 다 배움\n",
    "- Jupyter 에서 분석하는 동안 최적으로 분석 (스태틱한) 리포트를 만들 수 있음\n",
    "- 사실 귀찮기는 함 ^^ 그래도 몇개 아는 것만 해도 그럴싸함\n",
    "- 전문 Typora라는 툴도 있음, 이 페이지는 마크다운으로 만들어짐."
   ]
  },
  {
   "cell_type": "markdown",
   "metadata": {
    "heading_collapsed": true
   },
   "source": [
    "# 수식 표현"
   ]
  },
  {
   "cell_type": "markdown",
   "metadata": {
    "hidden": true
   },
   "source": [
    "- 마카다운으로 수식 기능을 넣을 수 있음\n",
    "- 여기서 코드 생성: http://s1.daumcdn.net/editor/fp/service_nc/pencil/Pencil_chromestore.html \n",
    "  ![근의공식](.\\images\\appendix\\equation.png)\n",
    "- 위에서 생성한 코드를 \\begin{aligg} ~ \\end{align} 사이에 넣으면 끝\n",
    "  ```\n",
    "  \\begin{align}\n",
    "  x\\quad =\\quad \\frac { -b\\quad \\pm \\quad \\sqrt { { b }^{ 2 }\\quad -\\quad 4ac }  }{ 2a } \n",
    "  \\end{align}\n",
    "  ```"
   ]
  },
  {
   "cell_type": "markdown",
   "metadata": {
    "ExecuteTime": {
     "end_time": "2019-04-03T01:00:07.686894Z",
     "start_time": "2019-04-03T01:00:07.673284Z"
    },
    "hidden": true
   },
   "source": [
    "\\begin{align}\n",
    "x\\quad =\\quad \\frac { -b\\quad \\pm \\quad \\sqrt { { b }^{ 2 }\\quad -\\quad 4ac }  }{ 2a } \n",
    "\\end{align}"
   ]
  },
  {
   "cell_type": "markdown",
   "metadata": {
    "heading_collapsed": true,
    "hide_input": true
   },
   "source": [
    "# Jupyter Widget 사용하기"
   ]
  },
  {
   "cell_type": "markdown",
   "metadata": {
    "heading_collapsed": true,
    "hidden": true
   },
   "source": [
    "## 설치"
   ]
  },
  {
   "cell_type": "markdown",
   "metadata": {
    "hidden": true
   },
   "source": [
    "```\n",
    "!conda install ipywidgets\n",
    "```"
   ]
  },
  {
   "cell_type": "code",
   "execution_count": 1,
   "metadata": {
    "ExecuteTime": {
     "end_time": "2019-04-14T05:23:35.898368Z",
     "start_time": "2019-04-14T05:23:28.873826Z"
    },
    "hidden": true
   },
   "outputs": [
    {
     "name": "stdout",
     "output_type": "stream",
     "text": [
      "Collecting package metadata: done\n",
      "Solving environment: done\n",
      "\n",
      "## Package Plan ##\n",
      "\n",
      "  environment location: /Users/ryan/.pyenv/versions/anaconda3-5.3.1/envs/hmg-edu-jupyter\n",
      "\n",
      "  removed specs:\n",
      "    - ipywidgets\n",
      "\n",
      "\n",
      "The following packages will be REMOVED:\n",
      "\n",
      "  ipywidgets-7.4.2-py36_0\n",
      "\n",
      "\n",
      "Preparing transaction: done\n",
      "Verifying transaction: done\n",
      "Executing transaction: done\n"
     ]
    }
   ],
   "source": [
    "!conda uninstall -y ipywidgets\n",
    "# !conda install -y ipywidgets"
   ]
  },
  {
   "cell_type": "markdown",
   "metadata": {
    "heading_collapsed": true,
    "hidden": true
   },
   "source": [
    "## interact 함수로 구현하기"
   ]
  },
  {
   "cell_type": "code",
   "execution_count": 6,
   "metadata": {
    "ExecuteTime": {
     "end_time": "2019-04-14T04:22:31.535432Z",
     "start_time": "2019-04-14T04:22:31.532495Z"
    },
    "hidden": true
   },
   "outputs": [],
   "source": [
    "from ipywidgets import interact"
   ]
  },
  {
   "cell_type": "code",
   "execution_count": 7,
   "metadata": {
    "ExecuteTime": {
     "end_time": "2019-04-14T04:22:32.231362Z",
     "start_time": "2019-04-14T04:22:32.187540Z"
    },
    "code_folding": [],
    "hidden": true
   },
   "outputs": [
    {
     "data": {
      "text/plain": [
       "10"
      ]
     },
     "metadata": {},
     "output_type": "display_data"
    }
   ],
   "source": [
    "@interact(max=10)\n",
    "def func(max):\n",
    "    return max"
   ]
  },
  {
   "cell_type": "markdown",
   "metadata": {
    "heading_collapsed": true,
    "hidden": true,
    "hide_input": true
   },
   "source": [
    "## 구구단"
   ]
  },
  {
   "cell_type": "code",
   "execution_count": 8,
   "metadata": {
    "ExecuteTime": {
     "end_time": "2019-04-14T04:22:33.396502Z",
     "start_time": "2019-04-14T04:22:33.393534Z"
    },
    "hidden": true
   },
   "outputs": [],
   "source": [
    "from ipywidgets import IntSlider"
   ]
  },
  {
   "cell_type": "code",
   "execution_count": 9,
   "metadata": {
    "ExecuteTime": {
     "end_time": "2019-04-14T04:22:34.073586Z",
     "start_time": "2019-04-14T04:22:34.027989Z"
    },
    "code_folding": [],
    "hidden": true
   },
   "outputs": [
    {
     "data": {
      "application/vnd.jupyter.widget-view+json": {
       "model_id": "cf5fb81ce3c843a7b7e8cf564d067c6a",
       "version_major": 2,
       "version_minor": 0
      },
      "text/plain": [
       "interactive(children=(IntSlider(value=1, description='num1', max=10, min=1), IntSlider(value=10, description='…"
      ]
     },
     "metadata": {},
     "output_type": "display_data"
    }
   ],
   "source": [
    "num1_range = IntSlider(min=1, max=10, step=1, value=1)\n",
    "num2_range = IntSlider(min=1, max=10, step=1, value=10)\n",
    "\n",
    "@interact(num1=num1_range, num2=num2_range)\n",
    "def gugudan(num1, num2):\n",
    "    for val1 in range(2, num1):        \n",
    "        for val2 in range(1, num2):\n",
    "            print(val1, ' x ' , val2, ' = ', val1*val2)"
   ]
  },
  {
   "cell_type": "markdown",
   "metadata": {
    "heading_collapsed": true
   },
   "source": [
    "# 주피터 슬라이드 이용"
   ]
  },
  {
   "cell_type": "markdown",
   "metadata": {
    "hidden": true
   },
   "source": [
    "참고: https://nbconvert.readthedocs.io/en/latest/usage.html"
   ]
  },
  {
   "cell_type": "markdown",
   "metadata": {
    "heading_collapsed": true
   },
   "source": [
    "# Jupyter Extension"
   ]
  },
  {
   "cell_type": "markdown",
   "metadata": {
    "hidden": true
   },
   "source": [
    "## 설치"
   ]
  },
  {
   "cell_type": "markdown",
   "metadata": {
    "hidden": true
   },
   "source": [
    "```\n",
    "$ conda install -c conda-forge jupyter_contrib_nbextensions\n",
    "```"
   ]
  },
  {
   "cell_type": "markdown",
   "metadata": {
    "hidden": true
   },
   "source": [
    "* 변수 탐색기: Variable Inspector\n",
    "* 코드 접기: Codefolding\n",
    "* 섹션 접기: Collapsible Headings\n",
    "* 목차: Table of Contents\n",
    "* 코드 실행시간: Execution Time"
   ]
  }
 ],
 "metadata": {
  "hide_input": true,
  "kernelspec": {
   "display_name": "Python 3",
   "language": "python",
   "name": "python3"
  },
  "language_info": {
   "codemirror_mode": {
    "name": "ipython",
    "version": 3
   },
   "file_extension": ".py",
   "mimetype": "text/x-python",
   "name": "python",
   "nbconvert_exporter": "python",
   "pygments_lexer": "ipython3",
   "version": "3.7.3"
  },
  "toc": {
   "base_numbering": 1,
   "nav_menu": {},
   "number_sections": true,
   "sideBar": true,
   "skip_h1_title": false,
   "title_cell": "Table of Contents",
   "title_sidebar": "Contents",
   "toc_cell": false,
   "toc_position": {},
   "toc_section_display": true,
   "toc_window_display": true
  },
  "varInspector": {
   "cols": {
    "lenName": 16,
    "lenType": 16,
    "lenVar": 40
   },
   "kernels_config": {
    "python": {
     "delete_cmd_postfix": "",
     "delete_cmd_prefix": "del ",
     "library": "var_list.py",
     "varRefreshCmd": "print(var_dic_list())"
    },
    "r": {
     "delete_cmd_postfix": ") ",
     "delete_cmd_prefix": "rm(",
     "library": "var_list.r",
     "varRefreshCmd": "cat(var_dic_list()) "
    }
   },
   "types_to_exclude": [
    "module",
    "function",
    "builtin_function_or_method",
    "instance",
    "_Feature"
   ],
   "window_display": false
  }
 },
 "nbformat": 4,
 "nbformat_minor": 2
}
