{
 "cells": [
  {
   "cell_type": "code",
   "execution_count": null,
   "metadata": {
    "ExecuteTime": {
     "end_time": "2019-05-07T09:31:56.506418Z",
     "start_time": "2019-05-07T09:31:56.501429Z"
    }
   },
   "outputs": [],
   "source": [
    "%matplotlib inline"
   ]
  },
  {
   "cell_type": "markdown",
   "metadata": {
    "heading_collapsed": true
   },
   "source": [
    "# datetime 오브젝트"
   ]
  },
  {
   "cell_type": "code",
   "execution_count": null,
   "metadata": {
    "ExecuteTime": {
     "end_time": "2019-05-07T09:28:45.968490Z",
     "start_time": "2019-05-07T09:28:45.965943Z"
    },
    "hidden": true
   },
   "outputs": [],
   "source": [
    "from datetime import datetime"
   ]
  },
  {
   "cell_type": "code",
   "execution_count": null,
   "metadata": {
    "ExecuteTime": {
     "end_time": "2019-05-07T09:28:46.449866Z",
     "start_time": "2019-05-07T09:28:46.441674Z"
    },
    "hidden": true
   },
   "outputs": [],
   "source": [
    "datetime.now()"
   ]
  },
  {
   "cell_type": "code",
   "execution_count": null,
   "metadata": {
    "ExecuteTime": {
     "end_time": "2019-05-07T09:28:46.869862Z",
     "start_time": "2019-05-07T09:28:46.866431Z"
    },
    "hidden": true
   },
   "outputs": [],
   "source": [
    "datetime.today()"
   ]
  },
  {
   "cell_type": "code",
   "execution_count": null,
   "metadata": {
    "ExecuteTime": {
     "end_time": "2019-05-07T09:28:47.424715Z",
     "start_time": "2019-05-07T09:28:47.421607Z"
    },
    "hidden": true
   },
   "outputs": [],
   "source": [
    "t1 = datetime.now() \n",
    "t2 = datetime(1970, 1, 1)\n",
    "t3 = datetime(1970, 12, 12, 13, 24, 34)"
   ]
  },
  {
   "cell_type": "code",
   "execution_count": null,
   "metadata": {
    "ExecuteTime": {
     "end_time": "2019-05-07T09:28:47.968904Z",
     "start_time": "2019-05-07T09:28:47.965411Z"
    },
    "hidden": true
   },
   "outputs": [],
   "source": [
    "diff1 = t1 - t2\n",
    "diff1"
   ]
  },
  {
   "cell_type": "code",
   "execution_count": null,
   "metadata": {
    "ExecuteTime": {
     "end_time": "2019-05-07T09:28:48.697804Z",
     "start_time": "2019-05-07T09:28:48.694302Z"
    },
    "hidden": true
   },
   "outputs": [],
   "source": [
    "diff2 = t2 - t1\n",
    "diff2"
   ]
  },
  {
   "cell_type": "markdown",
   "metadata": {
    "heading_collapsed": true
   },
   "source": [
    "# 문자열을 datetime 변환"
   ]
  },
  {
   "cell_type": "code",
   "execution_count": null,
   "metadata": {
    "ExecuteTime": {
     "end_time": "2019-05-07T09:28:50.659720Z",
     "start_time": "2019-05-07T09:28:50.419765Z"
    },
    "hidden": true
   },
   "outputs": [],
   "source": [
    "import pandas as pd \n",
    "import os"
   ]
  },
  {
   "cell_type": "code",
   "execution_count": null,
   "metadata": {
    "ExecuteTime": {
     "end_time": "2019-05-07T09:28:51.236491Z",
     "start_time": "2019-05-07T09:28:51.228666Z"
    },
    "hidden": true
   },
   "outputs": [],
   "source": [
    "df = pd.read_csv(\"./data/country_timeseries.csv\")"
   ]
  },
  {
   "cell_type": "code",
   "execution_count": null,
   "metadata": {
    "ExecuteTime": {
     "end_time": "2019-05-07T09:28:51.913950Z",
     "start_time": "2019-05-07T09:28:51.907634Z"
    },
    "hidden": true
   },
   "outputs": [],
   "source": [
    "df.info()"
   ]
  },
  {
   "cell_type": "code",
   "execution_count": null,
   "metadata": {
    "ExecuteTime": {
     "end_time": "2019-05-07T09:28:54.366946Z",
     "start_time": "2019-05-07T09:28:54.346007Z"
    },
    "hidden": true
   },
   "outputs": [],
   "source": [
    "df[\"date_dt\"] = pd.to_datetime(df[\"Date\"])\n",
    "df.info()"
   ]
  },
  {
   "cell_type": "code",
   "execution_count": null,
   "metadata": {
    "ExecuteTime": {
     "end_time": "2019-05-07T09:28:56.528232Z",
     "start_time": "2019-05-07T09:28:56.512425Z"
    },
    "hidden": true
   },
   "outputs": [],
   "source": [
    "df1 = pd.DataFrame({\"order_day\":[\"01/01/15\", \"02/01/15\", \"03/01/15\"]})\n",
    "\n",
    "df1[\"date_dt1\"] = pd.to_datetime(df1[\"order_day\"], format=\"%d/%m/%y\")\n",
    "df1[\"date_dt2\"] = pd.to_datetime(df1[\"order_day\"], format=\"%m/%d/%y\")\n",
    "df1[\"date_dt3\"] = pd.to_datetime(df1[\"order_day\"], format=\"%y/%m/%d\")\n",
    "\n",
    "df1"
   ]
  },
  {
   "cell_type": "code",
   "execution_count": null,
   "metadata": {
    "ExecuteTime": {
     "end_time": "2019-05-07T09:28:58.270019Z",
     "start_time": "2019-05-07T09:28:58.260120Z"
    },
    "hidden": true
   },
   "outputs": [],
   "source": [
    "df2 = pd.DataFrame({\"order_day\":[\"01-01-15\", \"02-01-15\", \"03-01-15\"]})\n",
    "df2[\"date_dt\"] = pd.to_datetime(df2[\"order_day\"], format=\"%d-%m-%y\")\n",
    "\n",
    "df2"
   ]
  },
  {
   "cell_type": "markdown",
   "metadata": {
    "heading_collapsed": true
   },
   "source": [
    "# 시계열 데이터 추출"
   ]
  },
  {
   "cell_type": "code",
   "execution_count": null,
   "metadata": {
    "ExecuteTime": {
     "end_time": "2019-05-07T09:29:00.195583Z",
     "start_time": "2019-05-07T09:29:00.192247Z"
    },
    "hidden": true
   },
   "outputs": [],
   "source": [
    "now = datetime.now()\n",
    "now"
   ]
  },
  {
   "cell_type": "code",
   "execution_count": null,
   "metadata": {
    "ExecuteTime": {
     "end_time": "2019-05-07T09:29:01.188141Z",
     "start_time": "2019-05-07T09:29:01.184435Z"
    },
    "hidden": true
   },
   "outputs": [],
   "source": [
    "nowDate = now.strftime(\"%Y-%m-%d\")\n",
    "nowDate"
   ]
  },
  {
   "cell_type": "code",
   "execution_count": null,
   "metadata": {
    "ExecuteTime": {
     "end_time": "2019-05-07T09:29:02.621004Z",
     "start_time": "2019-05-07T09:29:02.617255Z"
    },
    "hidden": true
   },
   "outputs": [],
   "source": [
    "nowTime = now.strftime(\"%H:%M:%S\")\n",
    "nowTime"
   ]
  },
  {
   "cell_type": "code",
   "execution_count": null,
   "metadata": {
    "ExecuteTime": {
     "end_time": "2019-05-07T09:29:03.490763Z",
     "start_time": "2019-05-07T09:29:03.487601Z"
    },
    "hidden": true
   },
   "outputs": [],
   "source": [
    "nowDatetime = now.strftime(\"%Y-%m-%d %H:%M:%S\")\n",
    "nowDatetime"
   ]
  },
  {
   "cell_type": "markdown",
   "metadata": {
    "heading_collapsed": true
   },
   "source": [
    "# 변환하려는 열을 datetime 으로 불러오기"
   ]
  },
  {
   "cell_type": "code",
   "execution_count": null,
   "metadata": {
    "ExecuteTime": {
     "end_time": "2019-05-07T09:29:41.322570Z",
     "start_time": "2019-05-07T09:29:41.311134Z"
    },
    "hidden": true
   },
   "outputs": [],
   "source": [
    "pd.read_csv(\"./data/country_timeseries.csv\").info()"
   ]
  },
  {
   "cell_type": "code",
   "execution_count": null,
   "metadata": {
    "ExecuteTime": {
     "end_time": "2019-05-07T09:29:51.694125Z",
     "start_time": "2019-05-07T09:29:51.670995Z"
    },
    "hidden": true
   },
   "outputs": [],
   "source": [
    "df = pd.read_csv(\"./data/country_timeseries.csv\", parse_dates=[\"Date\"]) \n",
    "df.info()"
   ]
  },
  {
   "cell_type": "markdown",
   "metadata": {
    "heading_collapsed": true
   },
   "source": [
    "# datetime 에서 날짜 추출"
   ]
  },
  {
   "cell_type": "code",
   "execution_count": null,
   "metadata": {
    "ExecuteTime": {
     "end_time": "2019-05-07T09:30:24.366930Z",
     "start_time": "2019-05-07T09:30:24.360901Z"
    },
    "hidden": true
   },
   "outputs": [],
   "source": [
    "date_series = pd.Series([\"2018-05-16\", \"2018-05-17\", \"2018-05-18\"])\n",
    "d1 = pd.to_datetime(date_series) \n",
    "d1"
   ]
  },
  {
   "cell_type": "code",
   "execution_count": null,
   "metadata": {
    "ExecuteTime": {
     "end_time": "2019-05-07T09:30:25.788137Z",
     "start_time": "2019-05-07T09:30:25.784249Z"
    },
    "hidden": true
   },
   "outputs": [],
   "source": [
    "d1[0].year"
   ]
  },
  {
   "cell_type": "code",
   "execution_count": null,
   "metadata": {
    "ExecuteTime": {
     "end_time": "2019-05-07T09:30:26.671175Z",
     "start_time": "2019-05-07T09:30:26.667999Z"
    },
    "hidden": true
   },
   "outputs": [],
   "source": [
    "d1[0].month"
   ]
  },
  {
   "cell_type": "code",
   "execution_count": null,
   "metadata": {
    "ExecuteTime": {
     "end_time": "2019-05-07T09:30:27.515850Z",
     "start_time": "2019-05-07T09:30:27.512110Z"
    },
    "hidden": true
   },
   "outputs": [],
   "source": [
    "d1[0].day"
   ]
  },
  {
   "cell_type": "markdown",
   "metadata": {
    "heading_collapsed": true
   },
   "source": [
    "# datetime 의 dt 접근자"
   ]
  },
  {
   "cell_type": "markdown",
   "metadata": {
    "hidden": true
   },
   "source": [
    "**`country_timeseries` 데이터는 에볼라 발병 원인에 관련 데이터로 시간의 역순으로 정렬되어 있음**"
   ]
  },
  {
   "cell_type": "code",
   "execution_count": null,
   "metadata": {
    "ExecuteTime": {
     "end_time": "2019-05-07T09:30:29.357111Z",
     "start_time": "2019-05-07T09:30:29.350380Z"
    },
    "hidden": true
   },
   "outputs": [],
   "source": [
    "df = pd.read_csv(\"./data/country_timeseries.csv\")"
   ]
  },
  {
   "cell_type": "code",
   "execution_count": null,
   "metadata": {
    "ExecuteTime": {
     "end_time": "2019-05-07T09:30:31.376068Z",
     "start_time": "2019-05-07T09:30:31.361495Z"
    },
    "hidden": true
   },
   "outputs": [],
   "source": [
    "df[\"date_dt\"] = pd.to_datetime(df[\"Date\"])"
   ]
  },
  {
   "cell_type": "code",
   "execution_count": null,
   "metadata": {
    "ExecuteTime": {
     "end_time": "2019-05-07T09:30:32.279632Z",
     "start_time": "2019-05-07T09:30:32.273334Z"
    },
    "hidden": true
   },
   "outputs": [],
   "source": [
    "df.info()"
   ]
  },
  {
   "cell_type": "code",
   "execution_count": null,
   "metadata": {
    "ExecuteTime": {
     "end_time": "2019-05-07T09:30:33.164096Z",
     "start_time": "2019-05-07T09:30:33.155875Z"
    },
    "hidden": true
   },
   "outputs": [],
   "source": [
    "df[[\"Date\", \"date_dt\"]].head()"
   ]
  },
  {
   "cell_type": "code",
   "execution_count": null,
   "metadata": {
    "ExecuteTime": {
     "end_time": "2019-05-07T09:30:34.001263Z",
     "start_time": "2019-05-07T09:30:33.998265Z"
    },
    "hidden": true
   },
   "outputs": [],
   "source": [
    "df[\"date_dt\"][3].year"
   ]
  },
  {
   "cell_type": "code",
   "execution_count": null,
   "metadata": {
    "ExecuteTime": {
     "end_time": "2019-05-07T09:30:34.833966Z",
     "start_time": "2019-05-07T09:30:34.830529Z"
    },
    "hidden": true
   },
   "outputs": [],
   "source": [
    "df[\"date_dt\"][3].month"
   ]
  },
  {
   "cell_type": "code",
   "execution_count": null,
   "metadata": {
    "ExecuteTime": {
     "end_time": "2019-05-07T09:30:35.672743Z",
     "start_time": "2019-05-07T09:30:35.669567Z"
    },
    "hidden": true
   },
   "outputs": [],
   "source": [
    "df[\"date_dt\"][3].day"
   ]
  },
  {
   "cell_type": "code",
   "execution_count": null,
   "metadata": {
    "ExecuteTime": {
     "end_time": "2019-05-07T09:30:36.562034Z",
     "start_time": "2019-05-07T09:30:36.551644Z"
    },
    "hidden": true
   },
   "outputs": [],
   "source": [
    "df[\"year\"] = df[\"date_dt\"].dt.year\n",
    "df[[\"Date\", \"date_dt\", \"year\"]].head()"
   ]
  },
  {
   "cell_type": "code",
   "execution_count": null,
   "metadata": {
    "ExecuteTime": {
     "end_time": "2019-05-07T09:30:38.409094Z",
     "start_time": "2019-05-07T09:30:38.396375Z"
    },
    "hidden": true
   },
   "outputs": [],
   "source": [
    "df[\"month\"], df[\"day\"] = (df[\"date_dt\"].dt.month, df[\"date_dt\"].dt.day)\n",
    "      \n",
    "df[[\"Date\", \"date_dt\", \"year\", \"month\", \"day\"]].head()"
   ]
  },
  {
   "cell_type": "code",
   "execution_count": null,
   "metadata": {
    "ExecuteTime": {
     "end_time": "2019-05-07T09:30:39.618319Z",
     "start_time": "2019-05-07T09:30:39.610836Z"
    },
    "hidden": true
   },
   "outputs": [],
   "source": [
    "df.info()"
   ]
  },
  {
   "cell_type": "markdown",
   "metadata": {
    "heading_collapsed": true
   },
   "source": [
    "# 에볼라 최초 발병일 계산"
   ]
  },
  {
   "cell_type": "code",
   "execution_count": null,
   "metadata": {
    "ExecuteTime": {
     "end_time": "2019-05-07T09:30:43.061516Z",
     "start_time": "2019-05-07T09:30:43.040704Z"
    },
    "hidden": true
   },
   "outputs": [],
   "source": [
    "df.head()"
   ]
  },
  {
   "cell_type": "code",
   "execution_count": null,
   "metadata": {
    "ExecuteTime": {
     "end_time": "2019-05-07T09:30:51.335087Z",
     "start_time": "2019-05-07T09:30:51.325511Z"
    },
    "hidden": true
   },
   "outputs": [],
   "source": [
    "df.iloc[-5:, :5]"
   ]
  },
  {
   "cell_type": "code",
   "execution_count": null,
   "metadata": {
    "ExecuteTime": {
     "end_time": "2019-05-07T09:30:52.475368Z",
     "start_time": "2019-05-07T09:30:52.471056Z"
    },
    "hidden": true
   },
   "outputs": [],
   "source": [
    "df[\"date_dt\"].min()"
   ]
  },
  {
   "cell_type": "code",
   "execution_count": null,
   "metadata": {
    "ExecuteTime": {
     "end_time": "2019-05-07T09:31:03.327608Z",
     "start_time": "2019-05-07T09:31:03.317220Z"
    },
    "hidden": true
   },
   "outputs": [],
   "source": [
    "df[\"outbreak_d\"] = df[\"date_dt\"] - df[\"date_dt\"].min()\n",
    "\n",
    "df[[\"Date\", \"Day\", \"outbreak_d\"]].head()"
   ]
  },
  {
   "cell_type": "markdown",
   "metadata": {
    "heading_collapsed": true
   },
   "source": [
    "# 파산한 은행의 수 계산"
   ]
  },
  {
   "cell_type": "markdown",
   "metadata": {
    "hidden": true
   },
   "source": [
    "**`banklist.csv`는 파산한 은행 목록을 나열한 데이터**"
   ]
  },
  {
   "cell_type": "code",
   "execution_count": null,
   "metadata": {
    "ExecuteTime": {
     "end_time": "2019-05-07T09:31:14.054307Z",
     "start_time": "2019-05-07T09:31:14.046551Z"
    },
    "hidden": true
   },
   "outputs": [],
   "source": [
    "df = pd.read_csv(\"./data/banklist.csv\") "
   ]
  },
  {
   "cell_type": "markdown",
   "metadata": {
    "hidden": true
   },
   "source": [
    "**`Closing Date`와 `Updated Date` 컬럼이 존애 시계열 데이터임을 추측할 수 있음**"
   ]
  },
  {
   "cell_type": "code",
   "execution_count": null,
   "metadata": {
    "ExecuteTime": {
     "end_time": "2019-05-07T09:31:16.753336Z",
     "start_time": "2019-05-07T09:31:16.746799Z"
    },
    "hidden": true
   },
   "outputs": [],
   "source": [
    "df.info()"
   ]
  },
  {
   "cell_type": "code",
   "execution_count": null,
   "metadata": {
    "ExecuteTime": {
     "end_time": "2019-05-07T09:31:19.860897Z",
     "start_time": "2019-05-07T09:31:19.767633Z"
    },
    "hidden": true
   },
   "outputs": [],
   "source": [
    "df_dates = pd.read_csv(\"./data/banklist.csv\", parse_dates=[\"Closing Date\", \"Updated Date\"])\n",
    "# df_dates = pd.read_csv(\"./data/banklist.csv\", parse_dates=[5, 6])\n",
    "df_dates.info()"
   ]
  },
  {
   "cell_type": "code",
   "execution_count": null,
   "metadata": {
    "ExecuteTime": {
     "end_time": "2019-05-07T09:31:22.068168Z",
     "start_time": "2019-05-07T09:31:22.063787Z"
    },
    "hidden": true
   },
   "outputs": [],
   "source": [
    "df_dates[\"closing_quarter\"], df_dates[\"closing_year\"] \\\n",
    "        = (df_dates[\"Closing Date\"].dt.quarter, df_dates[\"Closing Date\"].dt.year)"
   ]
  },
  {
   "cell_type": "code",
   "execution_count": null,
   "metadata": {
    "ExecuteTime": {
     "end_time": "2019-05-07T09:31:23.211308Z",
     "start_time": "2019-05-07T09:31:23.199587Z"
    },
    "hidden": true
   },
   "outputs": [],
   "source": [
    "df_dates.head(3)"
   ]
  },
  {
   "cell_type": "code",
   "execution_count": null,
   "metadata": {
    "ExecuteTime": {
     "end_time": "2019-05-07T09:32:17.007688Z",
     "start_time": "2019-05-07T09:32:16.995833Z"
    },
    "hidden": true
   },
   "outputs": [],
   "source": [
    "closing_year = df_dates[\"closing_year\"].value_counts()\n",
    "# closing_year = df_dates.groupby(['closing_year']).size()\n",
    "# closing_year = df_dates.groupby(['closing_year']).size().reset_index(name=\"count\")\n",
    "\n",
    "closing_year"
   ]
  },
  {
   "cell_type": "code",
   "execution_count": null,
   "metadata": {
    "ExecuteTime": {
     "end_time": "2019-05-07T09:32:18.221173Z",
     "start_time": "2019-05-07T09:32:18.088618Z"
    },
    "hidden": true
   },
   "outputs": [],
   "source": [
    "closing_year.plot(kind=\"line\", x=\"closing_year\", y=\"count\")"
   ]
  },
  {
   "cell_type": "code",
   "execution_count": null,
   "metadata": {
    "ExecuteTime": {
     "end_time": "2019-05-07T09:32:27.033309Z",
     "start_time": "2019-05-07T09:32:27.019209Z"
    },
    "hidden": true,
    "scrolled": true
   },
   "outputs": [],
   "source": [
    "closing_year_quarter = df_dates.groupby([\"closing_year\", \"closing_quarter\"]).size().reset_index(name=\"count\")\n",
    "closing_year_quarter"
   ]
  },
  {
   "cell_type": "code",
   "execution_count": null,
   "metadata": {
    "ExecuteTime": {
     "end_time": "2019-05-07T09:32:29.198036Z",
     "start_time": "2019-05-07T09:32:29.074083Z"
    },
    "hidden": true
   },
   "outputs": [],
   "source": [
    "closing_year_quarter.plot(kind=\"line\", y=\"count\")"
   ]
  },
  {
   "cell_type": "markdown",
   "metadata": {
    "heading_collapsed": true
   },
   "source": [
    "# 주식 데이터 다루기"
   ]
  },
  {
   "cell_type": "markdown",
   "metadata": {
    "hidden": true
   },
   "source": [
    "**pandas는 최초 `금융(주식) 데이터`를 다루기 위해서 만들어졌다**"
   ]
  },
  {
   "cell_type": "code",
   "execution_count": null,
   "metadata": {
    "ExecuteTime": {
     "end_time": "2019-05-07T09:32:31.792874Z",
     "start_time": "2019-05-07T09:32:31.777069Z"
    },
    "hidden": true
   },
   "outputs": [],
   "source": [
    "stocks = pd.read_csv(\"./data/tesla_stock_quandl.csv\", parse_dates=[0])\n",
    "stocks.info()"
   ]
  },
  {
   "cell_type": "code",
   "execution_count": null,
   "metadata": {
    "ExecuteTime": {
     "end_time": "2019-05-07T09:32:34.051841Z",
     "start_time": "2019-05-07T09:32:34.035221Z"
    },
    "hidden": true
   },
   "outputs": [],
   "source": [
    "condition = (stocks.Date.dt.year == 2010) & (stocks.Date.dt.month == 6)\n",
    "stocks.loc[condition]"
   ]
  },
  {
   "cell_type": "markdown",
   "metadata": {
    "heading_collapsed": true
   },
   "source": [
    "# DatetimeIndex"
   ]
  },
  {
   "cell_type": "code",
   "execution_count": null,
   "metadata": {
    "ExecuteTime": {
     "end_time": "2019-05-07T09:32:36.888228Z",
     "start_time": "2019-05-07T09:32:36.884541Z"
    },
    "hidden": true
   },
   "outputs": [],
   "source": [
    "stocks.index"
   ]
  },
  {
   "cell_type": "code",
   "execution_count": null,
   "metadata": {
    "ExecuteTime": {
     "end_time": "2019-05-07T09:32:38.358968Z",
     "start_time": "2019-05-07T09:32:38.355165Z"
    },
    "hidden": true
   },
   "outputs": [],
   "source": [
    "stocks.index = stocks[\"Date\"] \n",
    "stocks.index"
   ]
  },
  {
   "cell_type": "code",
   "execution_count": null,
   "metadata": {
    "ExecuteTime": {
     "end_time": "2019-05-07T09:32:39.860211Z",
     "start_time": "2019-05-07T09:32:39.850590Z"
    },
    "hidden": true
   },
   "outputs": [],
   "source": [
    "stocks[\"2015\"].iloc[:5, :5]"
   ]
  },
  {
   "cell_type": "code",
   "execution_count": null,
   "metadata": {
    "ExecuteTime": {
     "end_time": "2019-05-07T09:32:41.320928Z",
     "start_time": "2019-05-07T09:32:41.312610Z"
    },
    "hidden": true
   },
   "outputs": [],
   "source": [
    "stocks[\"2010-06\":].iloc[:, :5]"
   ]
  }
 ],
 "metadata": {
  "hide_input": false,
  "kernelspec": {
   "display_name": "Python 3",
   "language": "python",
   "name": "python3"
  },
  "language_info": {
   "codemirror_mode": {
    "name": "ipython",
    "version": 3
   },
   "file_extension": ".py",
   "mimetype": "text/x-python",
   "name": "python",
   "nbconvert_exporter": "python",
   "pygments_lexer": "ipython3",
   "version": "3.7.3"
  },
  "toc": {
   "base_numbering": 1,
   "nav_menu": {},
   "number_sections": true,
   "sideBar": true,
   "skip_h1_title": false,
   "title_cell": "Table of Contents",
   "title_sidebar": "Contents",
   "toc_cell": false,
   "toc_position": {
    "height": "calc(100% - 180px)",
    "left": "10px",
    "top": "150px",
    "width": "165px"
   },
   "toc_section_display": true,
   "toc_window_display": true
  },
  "varInspector": {
   "cols": {
    "lenName": 16,
    "lenType": 16,
    "lenVar": 40
   },
   "kernels_config": {
    "python": {
     "delete_cmd_postfix": "",
     "delete_cmd_prefix": "del ",
     "library": "var_list.py",
     "varRefreshCmd": "print(var_dic_list())"
    },
    "r": {
     "delete_cmd_postfix": ") ",
     "delete_cmd_prefix": "rm(",
     "library": "var_list.r",
     "varRefreshCmd": "cat(var_dic_list()) "
    }
   },
   "types_to_exclude": [
    "module",
    "function",
    "builtin_function_or_method",
    "instance",
    "_Feature"
   ],
   "window_display": false
  }
 },
 "nbformat": 4,
 "nbformat_minor": 1
}
