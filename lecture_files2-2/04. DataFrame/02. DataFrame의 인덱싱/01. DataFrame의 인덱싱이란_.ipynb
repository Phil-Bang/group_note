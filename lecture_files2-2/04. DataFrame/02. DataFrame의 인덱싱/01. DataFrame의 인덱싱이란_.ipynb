{
 "cells": [
  {
   "cell_type": "code",
   "execution_count": null,
   "metadata": {
    "ExecuteTime": {
     "end_time": "2019-05-06T10:11:06.802491Z",
     "start_time": "2019-05-06T10:11:06.466497Z"
    }
   },
   "outputs": [],
   "source": [
    "import pandas as pd"
   ]
  },
  {
   "cell_type": "code",
   "execution_count": null,
   "metadata": {
    "ExecuteTime": {
     "end_time": "2019-05-06T10:11:06.820269Z",
     "start_time": "2019-05-06T10:11:06.803930Z"
    }
   },
   "outputs": [],
   "source": [
    "df = pd.read_csv(\"data/iphone.csv\", index_col=0)\n",
    "df"
   ]
  },
  {
   "cell_type": "code",
   "execution_count": null,
   "metadata": {
    "ExecuteTime": {
     "end_time": "2019-05-06T10:11:06.825834Z",
     "start_time": "2019-05-06T10:11:06.822150Z"
    }
   },
   "outputs": [],
   "source": [
    "df.loc[\"iPhone 8\", \"메모리\"]"
   ]
  },
  {
   "cell_type": "code",
   "execution_count": null,
   "metadata": {
    "ExecuteTime": {
     "end_time": "2019-05-06T10:11:06.831760Z",
     "start_time": "2019-05-06T10:11:06.827606Z"
    }
   },
   "outputs": [],
   "source": [
    "df.loc[\"iPhone X\", :]"
   ]
  },
  {
   "cell_type": "code",
   "execution_count": null,
   "metadata": {
    "ExecuteTime": {
     "end_time": "2019-05-06T10:11:06.837166Z",
     "start_time": "2019-05-06T10:11:06.833017Z"
    }
   },
   "outputs": [],
   "source": [
    "df.loc[\"iPhone X\"]"
   ]
  },
  {
   "cell_type": "code",
   "execution_count": null,
   "metadata": {
    "ExecuteTime": {
     "end_time": "2019-05-06T10:11:06.842088Z",
     "start_time": "2019-05-06T10:11:06.838567Z"
    }
   },
   "outputs": [],
   "source": [
    "type(df.loc[\"iPhone X\"])"
   ]
  },
  {
   "cell_type": "code",
   "execution_count": null,
   "metadata": {
    "ExecuteTime": {
     "end_time": "2019-05-06T10:11:06.848760Z",
     "start_time": "2019-05-06T10:11:06.843268Z"
    }
   },
   "outputs": [],
   "source": [
    "df.loc[:, \"출시일\"]"
   ]
  },
  {
   "cell_type": "code",
   "execution_count": null,
   "metadata": {
    "ExecuteTime": {
     "end_time": "2019-05-06T10:11:06.855253Z",
     "start_time": "2019-05-06T10:11:06.850987Z"
    }
   },
   "outputs": [],
   "source": [
    "df[\"출시일\"]"
   ]
  }
 ],
 "metadata": {
  "hide_input": false,
  "kernelspec": {
   "display_name": "Python 3",
   "language": "python",
   "name": "python3"
  },
  "language_info": {
   "codemirror_mode": {
    "name": "ipython",
    "version": 3
   },
   "file_extension": ".py",
   "mimetype": "text/x-python",
   "name": "python",
   "nbconvert_exporter": "python",
   "pygments_lexer": "ipython3",
   "version": "3.7.3"
  },
  "toc": {
   "base_numbering": 1,
   "nav_menu": {},
   "number_sections": true,
   "sideBar": true,
   "skip_h1_title": false,
   "title_cell": "Table of Contents",
   "title_sidebar": "Contents",
   "toc_cell": false,
   "toc_position": {},
   "toc_section_display": true,
   "toc_window_display": false
  },
  "varInspector": {
   "cols": {
    "lenName": 16,
    "lenType": 16,
    "lenVar": 40
   },
   "kernels_config": {
    "python": {
     "delete_cmd_postfix": "",
     "delete_cmd_prefix": "del ",
     "library": "var_list.py",
     "varRefreshCmd": "print(var_dic_list())"
    },
    "r": {
     "delete_cmd_postfix": ") ",
     "delete_cmd_prefix": "rm(",
     "library": "var_list.r",
     "varRefreshCmd": "cat(var_dic_list()) "
    }
   },
   "types_to_exclude": [
    "module",
    "function",
    "builtin_function_or_method",
    "instance",
    "_Feature"
   ],
   "window_display": false
  }
 },
 "nbformat": 4,
 "nbformat_minor": 2
}
