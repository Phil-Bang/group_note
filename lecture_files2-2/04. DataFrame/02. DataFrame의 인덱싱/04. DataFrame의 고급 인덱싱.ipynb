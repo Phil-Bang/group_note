{
 "cells": [
  {
   "cell_type": "code",
   "execution_count": null,
   "metadata": {
    "ExecuteTime": {
     "end_time": "2019-05-06T10:23:34.578232Z",
     "start_time": "2019-05-06T10:23:34.234365Z"
    }
   },
   "outputs": [],
   "source": [
    "import pandas as pd"
   ]
  },
  {
   "cell_type": "code",
   "execution_count": null,
   "metadata": {
    "ExecuteTime": {
     "end_time": "2019-05-06T10:23:34.596342Z",
     "start_time": "2019-05-06T10:23:34.579838Z"
    }
   },
   "outputs": [],
   "source": [
    "df = pd.read_csv(\"./data/iphone.csv\", index_col=0)\n",
    "df"
   ]
  },
  {
   "cell_type": "code",
   "execution_count": null,
   "metadata": {
    "ExecuteTime": {
     "end_time": "2019-05-06T10:23:34.602457Z",
     "start_time": "2019-05-06T10:23:34.598315Z"
    }
   },
   "outputs": [],
   "source": [
    "df.loc[\"iPhone X\"]"
   ]
  },
  {
   "cell_type": "code",
   "execution_count": null,
   "metadata": {
    "ExecuteTime": {
     "end_time": "2019-05-06T10:23:34.612202Z",
     "start_time": "2019-05-06T10:23:34.604169Z"
    }
   },
   "outputs": [],
   "source": [
    "df.loc[[\"iPhone X\", \"iPhone 8\"]]"
   ]
  },
  {
   "cell_type": "code",
   "execution_count": null,
   "metadata": {
    "ExecuteTime": {
     "end_time": "2019-05-06T10:23:34.617872Z",
     "start_time": "2019-05-06T10:23:34.613648Z"
    }
   },
   "outputs": [],
   "source": [
    "type(df.loc[[\"iPhone X\", \"iPhone 8\"]])"
   ]
  },
  {
   "cell_type": "code",
   "execution_count": null,
   "metadata": {
    "ExecuteTime": {
     "end_time": "2019-05-06T10:23:34.624153Z",
     "start_time": "2019-05-06T10:23:34.619196Z"
    }
   },
   "outputs": [],
   "source": [
    "df[\"Face ID\"]"
   ]
  },
  {
   "cell_type": "code",
   "execution_count": null,
   "metadata": {
    "ExecuteTime": {
     "end_time": "2019-05-06T10:23:34.633595Z",
     "start_time": "2019-05-06T10:23:34.625611Z"
    }
   },
   "outputs": [],
   "source": [
    "df[[\"Face ID\", \"출시일\", \"메모리\"]]"
   ]
  },
  {
   "cell_type": "markdown",
   "metadata": {},
   "source": [
    "# 로우 슬라이싱"
   ]
  },
  {
   "cell_type": "code",
   "execution_count": null,
   "metadata": {
    "ExecuteTime": {
     "end_time": "2019-05-06T10:23:34.643728Z",
     "start_time": "2019-05-06T10:23:34.635642Z"
    }
   },
   "outputs": [],
   "source": [
    "df.loc[\"iPhone 8\":\"iPhone XS\"]"
   ]
  },
  {
   "cell_type": "code",
   "execution_count": null,
   "metadata": {
    "ExecuteTime": {
     "end_time": "2019-05-06T10:23:34.654718Z",
     "start_time": "2019-05-06T10:23:34.646180Z"
    }
   },
   "outputs": [],
   "source": [
    "df.loc[:\"iPhone XS\"]"
   ]
  },
  {
   "cell_type": "code",
   "execution_count": null,
   "metadata": {
    "ExecuteTime": {
     "end_time": "2019-05-06T10:23:34.662418Z",
     "start_time": "2019-05-06T10:23:34.656179Z"
    }
   },
   "outputs": [],
   "source": [
    "df[\"메모리\": \"Face ID\"]"
   ]
  },
  {
   "cell_type": "markdown",
   "metadata": {},
   "source": [
    "# 컬럼 슬라이싱"
   ]
  },
  {
   "cell_type": "code",
   "execution_count": null,
   "metadata": {
    "ExecuteTime": {
     "end_time": "2019-05-06T10:23:34.671065Z",
     "start_time": "2019-05-06T10:23:34.663760Z"
    }
   },
   "outputs": [],
   "source": [
    "df.loc[:, \"메모리\": \"Face ID\"]"
   ]
  }
 ],
 "metadata": {
  "hide_input": false,
  "kernelspec": {
   "display_name": "Python 3",
   "language": "python",
   "name": "python3"
  },
  "language_info": {
   "codemirror_mode": {
    "name": "ipython",
    "version": 3
   },
   "file_extension": ".py",
   "mimetype": "text/x-python",
   "name": "python",
   "nbconvert_exporter": "python",
   "pygments_lexer": "ipython3",
   "version": "3.7.3"
  },
  "toc": {
   "base_numbering": 1,
   "nav_menu": {},
   "number_sections": true,
   "sideBar": true,
   "skip_h1_title": false,
   "title_cell": "Table of Contents",
   "title_sidebar": "Contents",
   "toc_cell": false,
   "toc_position": {},
   "toc_section_display": true,
   "toc_window_display": false
  },
  "varInspector": {
   "cols": {
    "lenName": 16,
    "lenType": 16,
    "lenVar": 40
   },
   "kernels_config": {
    "python": {
     "delete_cmd_postfix": "",
     "delete_cmd_prefix": "del ",
     "library": "var_list.py",
     "varRefreshCmd": "print(var_dic_list())"
    },
    "r": {
     "delete_cmd_postfix": ") ",
     "delete_cmd_prefix": "rm(",
     "library": "var_list.r",
     "varRefreshCmd": "cat(var_dic_list()) "
    }
   },
   "types_to_exclude": [
    "module",
    "function",
    "builtin_function_or_method",
    "instance",
    "_Feature"
   ],
   "window_display": false
  }
 },
 "nbformat": 4,
 "nbformat_minor": 2
}
