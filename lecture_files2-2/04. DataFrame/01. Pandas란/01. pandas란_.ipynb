{
 "cells": [
  {
   "cell_type": "markdown",
   "metadata": {},
   "source": [
    "# Pandas 개요"
   ]
  },
  {
   "cell_type": "markdown",
   "metadata": {},
   "source": [
    "* R이 초반에는 Python보다 많이 사용\n",
    "  - 통계를 위해서서 만들어진 언어\n",
    "  - 데이터분석 도구가 갖춰짐\n",
    "* R에서 핵심적인 데이터 구조는 DataFrame\n",
    "  - 데이터 보관\n",
    "  - 데이터 정리\n",
    "  - 데이터 분석\n",
    "* 개발자들이 Python으로 바꾸기 시작\n",
    "  - R의 장점을 흡수함\n",
    "  - 파이썬은 Pandas에서 그 역할을 해줌\n",
    "* 라이브러리 비교\n",
    "  - numpy vs. pandas\n",
    "  - numpy < pandas\n",
    "  - pandas는 numpy 기반에서 만들어짐"
   ]
  },
  {
   "cell_type": "markdown",
   "metadata": {},
   "source": [
    "# DataFrame 소개"
   ]
  },
  {
   "cell_type": "markdown",
   "metadata": {},
   "source": [
    "* 데이터 분석은 표형태(행렬)가 필요함\n",
    "  - 1차원 배열\n",
    "  - 2차원 배열\n",
    "* 데이터셋은 자료구조형은 데이터프레임 형\n",
    "  - 열 => 컬럼: 데이터의 특징(feature)\n",
    "  - 행 => 로우, 인덱스(판다스): 레코드(record)\n",
    "* numpy의 2차원과 pandas와 2차원 차이는?"
   ]
  },
  {
   "cell_type": "code",
   "execution_count": null,
   "metadata": {
    "ExecuteTime": {
     "end_time": "2019-05-01T03:30:50.028382Z",
     "start_time": "2019-05-01T03:30:50.025753Z"
    }
   },
   "outputs": [],
   "source": [
    "import pandas as pd\n",
    "import numpy as np"
   ]
  },
  {
   "cell_type": "code",
   "execution_count": null,
   "metadata": {
    "ExecuteTime": {
     "end_time": "2019-05-06T09:48:11.088967Z",
     "start_time": "2019-05-06T09:48:11.086142Z"
    }
   },
   "outputs": [],
   "source": [
    "two_dimensional_list = [[\"Ryan\", 44, 64], [\"Melissa\", 30, 58], [\"Ramela\", 1, 30]]"
   ]
  },
  {
   "cell_type": "code",
   "execution_count": null,
   "metadata": {
    "ExecuteTime": {
     "end_time": "2019-05-01T03:31:18.799038Z",
     "start_time": "2019-05-01T03:31:18.795304Z"
    }
   },
   "outputs": [],
   "source": [
    "my_np_array = np.array(two_dimensional_list)\n",
    "my_np_array"
   ]
  },
  {
   "cell_type": "code",
   "execution_count": null,
   "metadata": {
    "ExecuteTime": {
     "end_time": "2019-05-01T03:31:42.545750Z",
     "start_time": "2019-05-01T03:31:42.538314Z"
    }
   },
   "outputs": [],
   "source": [
    "my_df = pd.DataFrame(two_dimensional_list)\n",
    "my_df"
   ]
  },
  {
   "cell_type": "code",
   "execution_count": null,
   "metadata": {
    "ExecuteTime": {
     "end_time": "2019-05-01T03:31:52.183128Z",
     "start_time": "2019-05-01T03:31:52.179103Z"
    }
   },
   "outputs": [],
   "source": [
    "type(my_df)"
   ]
  },
  {
   "cell_type": "code",
   "execution_count": null,
   "metadata": {
    "ExecuteTime": {
     "end_time": "2019-05-01T03:32:52.926882Z",
     "start_time": "2019-05-01T03:32:52.918493Z"
    }
   },
   "outputs": [],
   "source": [
    "my_df = pd.DataFrame(two_dimensional_list, columns=['name', 'age', 'weight'])\n",
    "my_df"
   ]
  },
  {
   "cell_type": "code",
   "execution_count": null,
   "metadata": {
    "ExecuteTime": {
     "end_time": "2019-05-01T03:33:46.225070Z",
     "start_time": "2019-05-01T03:33:46.215894Z"
    }
   },
   "outputs": [],
   "source": [
    "my_df = pd.DataFrame(two_dimensional_list, \n",
    "                     columns=['name', 'age', 'weight'],\n",
    "                    index=['a','b','c'])\n",
    "my_df"
   ]
  },
  {
   "cell_type": "code",
   "execution_count": null,
   "metadata": {
    "ExecuteTime": {
     "end_time": "2019-05-01T03:33:58.328702Z",
     "start_time": "2019-05-01T03:33:58.324680Z"
    }
   },
   "outputs": [],
   "source": [
    "my_df.index"
   ]
  },
  {
   "cell_type": "code",
   "execution_count": null,
   "metadata": {
    "ExecuteTime": {
     "end_time": "2019-05-01T03:34:03.874359Z",
     "start_time": "2019-05-01T03:34:03.869502Z"
    }
   },
   "outputs": [],
   "source": [
    "my_df.dtypes"
   ]
  }
 ],
 "metadata": {
  "hide_input": false,
  "kernelspec": {
   "display_name": "Python 3",
   "language": "python",
   "name": "python3"
  },
  "language_info": {
   "codemirror_mode": {
    "name": "ipython",
    "version": 3
   },
   "file_extension": ".py",
   "mimetype": "text/x-python",
   "name": "python",
   "nbconvert_exporter": "python",
   "pygments_lexer": "ipython3",
   "version": "3.7.3"
  },
  "toc": {
   "base_numbering": 1,
   "nav_menu": {},
   "number_sections": true,
   "sideBar": true,
   "skip_h1_title": false,
   "title_cell": "Table of Contents",
   "title_sidebar": "Contents",
   "toc_cell": false,
   "toc_position": {},
   "toc_section_display": true,
   "toc_window_display": true
  },
  "varInspector": {
   "cols": {
    "lenName": 16,
    "lenType": 16,
    "lenVar": 40
   },
   "kernels_config": {
    "python": {
     "delete_cmd_postfix": "",
     "delete_cmd_prefix": "del ",
     "library": "var_list.py",
     "varRefreshCmd": "print(var_dic_list())"
    },
    "r": {
     "delete_cmd_postfix": ") ",
     "delete_cmd_prefix": "rm(",
     "library": "var_list.r",
     "varRefreshCmd": "cat(var_dic_list()) "
    }
   },
   "types_to_exclude": [
    "module",
    "function",
    "builtin_function_or_method",
    "instance",
    "_Feature"
   ],
   "window_display": false
  }
 },
 "nbformat": 4,
 "nbformat_minor": 2
}
