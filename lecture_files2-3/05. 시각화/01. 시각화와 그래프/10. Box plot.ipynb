{
 "cells": [
  {
   "cell_type": "markdown",
   "metadata": {},
   "source": [
    "박스 플롯은 통계정보를 보여주기 위한 그래프\n",
    "\n",
    "총 5가지 정보를 전달함\n",
    "\n",
    "* 가장 위의 선: 최대값\n",
    "* 가장 아래 선: 최소값\n",
    "* 박스 안의 선: 중간값, 50% 지점(Q2)\n",
    "* 박스 위의 선: 75% 지점(Q3)\n",
    "* 박스 아래 선: 25% 지점(Q1)"
   ]
  },
  {
   "cell_type": "code",
   "execution_count": null,
   "metadata": {
    "ExecuteTime": {
     "end_time": "2019-05-06T11:39:35.058184Z",
     "start_time": "2019-05-06T11:39:34.778651Z"
    }
   },
   "outputs": [],
   "source": [
    "%matplotlib inline"
   ]
  },
  {
   "cell_type": "code",
   "execution_count": null,
   "metadata": {
    "ExecuteTime": {
     "end_time": "2019-05-06T11:39:35.294186Z",
     "start_time": "2019-05-06T11:39:35.059491Z"
    }
   },
   "outputs": [],
   "source": [
    "import pandas as pd"
   ]
  },
  {
   "cell_type": "code",
   "execution_count": null,
   "metadata": {
    "ExecuteTime": {
     "end_time": "2019-05-06T11:39:35.303842Z",
     "start_time": "2019-05-06T11:39:35.296038Z"
    }
   },
   "outputs": [],
   "source": [
    "df = pd.read_csv(\"./data/exam.csv\")"
   ]
  },
  {
   "cell_type": "code",
   "execution_count": null,
   "metadata": {
    "ExecuteTime": {
     "end_time": "2019-05-06T11:39:35.317585Z",
     "start_time": "2019-05-06T11:39:35.305400Z"
    }
   },
   "outputs": [],
   "source": [
    "df.head(10)"
   ]
  },
  {
   "cell_type": "code",
   "execution_count": null,
   "metadata": {
    "ExecuteTime": {
     "end_time": "2019-05-06T11:39:35.326052Z",
     "start_time": "2019-05-06T11:39:35.319133Z"
    }
   },
   "outputs": [],
   "source": [
    "df[\"math score\"].describe()"
   ]
  },
  {
   "cell_type": "code",
   "execution_count": null,
   "metadata": {
    "ExecuteTime": {
     "end_time": "2019-05-06T11:39:35.428437Z",
     "start_time": "2019-05-06T11:39:35.327520Z"
    }
   },
   "outputs": [],
   "source": [
    "df.plot(kind=\"box\", y=\"math score\")"
   ]
  },
  {
   "cell_type": "code",
   "execution_count": null,
   "metadata": {
    "ExecuteTime": {
     "end_time": "2019-05-06T11:39:35.555818Z",
     "start_time": "2019-05-06T11:39:35.429733Z"
    }
   },
   "outputs": [],
   "source": [
    "df.plot(kind=\"box\", y=[\"math score\", \"reading score\", \"writing score\"])"
   ]
  }
 ],
 "metadata": {
  "hide_input": false,
  "kernelspec": {
   "display_name": "Python 3",
   "language": "python",
   "name": "python3"
  },
  "language_info": {
   "codemirror_mode": {
    "name": "ipython",
    "version": 3
   },
   "file_extension": ".py",
   "mimetype": "text/x-python",
   "name": "python",
   "nbconvert_exporter": "python",
   "pygments_lexer": "ipython3",
   "version": "3.7.3"
  },
  "toc": {
   "base_numbering": 1,
   "nav_menu": {},
   "number_sections": true,
   "sideBar": true,
   "skip_h1_title": false,
   "title_cell": "Table of Contents",
   "title_sidebar": "Contents",
   "toc_cell": false,
   "toc_position": {},
   "toc_section_display": true,
   "toc_window_display": false
  },
  "varInspector": {
   "cols": {
    "lenName": 16,
    "lenType": 16,
    "lenVar": 40
   },
   "kernels_config": {
    "python": {
     "delete_cmd_postfix": "",
     "delete_cmd_prefix": "del ",
     "library": "var_list.py",
     "varRefreshCmd": "print(var_dic_list())"
    },
    "r": {
     "delete_cmd_postfix": ") ",
     "delete_cmd_prefix": "rm(",
     "library": "var_list.r",
     "varRefreshCmd": "cat(var_dic_list()) "
    }
   },
   "types_to_exclude": [
    "module",
    "function",
    "builtin_function_or_method",
    "instance",
    "_Feature"
   ],
   "window_display": false
  }
 },
 "nbformat": 4,
 "nbformat_minor": 2
}
