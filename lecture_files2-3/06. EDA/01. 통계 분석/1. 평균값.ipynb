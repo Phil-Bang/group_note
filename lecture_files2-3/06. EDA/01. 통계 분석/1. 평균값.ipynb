{
 "cells": [
  {
   "cell_type": "markdown",
   "metadata": {},
   "source": [
    "# 평균(Mean)\n",
    "\n",
    "* 매우 익숙한 단어\n",
    "* 평균 = 데이터들의 합 / 데이터의 개수"
   ]
  },
  {
   "cell_type": "markdown",
   "metadata": {},
   "source": [
    "# 연습문제"
   ]
  },
  {
   "cell_type": "markdown",
   "metadata": {},
   "source": [
    "**1. 100m 달리기 연습 기록이다.**\n",
    "\n",
    "| 1차  | 2차  | 3차  | 4차  | 5차  | 6차  | 7차  | 8차  | 9차  | 10차 |\n",
    "| ---- | ---- | ---- | ---- | ---- | ---- | ---- | ---- | ---- | ---- |\n",
    "| 10.3 | 9.7  | 10.3 | 9.5  | 10.1 | 10.8 | 9.5  | 9.4  | 10.1 | 10.3 |\n",
    "\n",
    "**100m를 뛰는 데 걸리는 평균 시간(초)은 얼마인가?**\n",
    "\n",
    "\n"
   ]
  },
  {
   "cell_type": "code",
   "execution_count": 1,
   "metadata": {
    "ExecuteTime": {
     "end_time": "2019-05-06T11:59:22.487617Z",
     "start_time": "2019-05-06T11:59:22.479081Z"
    }
   },
   "outputs": [
    {
     "data": {
      "text/plain": [
       "10.0"
      ]
     },
     "execution_count": 1,
     "metadata": {},
     "output_type": "execute_result"
    }
   ],
   "source": [
    "(10.3 + 9.7 + 10.3 + 9.5 + 10.1 + 10.8 + 9.5 + 9.4 + 10.1 + 10.3) / 10"
   ]
  },
  {
   "cell_type": "markdown",
   "metadata": {},
   "source": [
    "답 : 10\n",
    "\n",
    "$$\\frac{10.3 + 9.7 + 10.3 + 9.5 + 10.1 + 10.8 + 9.5 + 9.4 + 10.1 + 10.3}{10} = 10$$"
   ]
  },
  {
   "cell_type": "markdown",
   "metadata": {},
   "source": [
    "**2. 옷을 구매시 평균 77,000원을 사용했다. 그런데 실수로 수요일에 산 옷에 대한 영수증을 잃어버렸다.**\n",
    "\n",
    "\n",
    "| 월요일  | 화요일  | 수요일 | 목요일  | 금요일  | 토요일  | 일요일  |\n",
    "| ------- | ------- | ------ | ------- | ------- | ------- | ------- |\n",
    "| 70000원 | 54000원 | -      | 97000원 | 83000원 | 66000원 | 80000원 |\n",
    "\n",
    "**수요일에 산 옷은 얼마였을까?**"
   ]
  },
  {
   "cell_type": "code",
   "execution_count": 2,
   "metadata": {
    "ExecuteTime": {
     "end_time": "2019-05-06T11:59:22.520522Z",
     "start_time": "2019-05-06T11:59:22.517095Z"
    }
   },
   "outputs": [
    {
     "ename": "SyntaxError",
     "evalue": "can't assign to operator (<ipython-input-2-ae7f9464fe90>, line 1)",
     "output_type": "error",
     "traceback": [
      "\u001b[0;36m  File \u001b[0;32m\"<ipython-input-2-ae7f9464fe90>\"\u001b[0;36m, line \u001b[0;32m1\u001b[0m\n\u001b[0;31m    (70000 + 54000 + x + 97000 + 83000 + 66000 + 80000) / 7 = 77000\u001b[0m\n\u001b[0m                                                                   ^\u001b[0m\n\u001b[0;31mSyntaxError\u001b[0m\u001b[0;31m:\u001b[0m can't assign to operator\n"
     ]
    }
   ],
   "source": [
    "(70000 + 54000 + x + 97000 + 83000 + 66000 + 80000) / 7 = 77000"
   ]
  },
  {
   "cell_type": "code",
   "execution_count": null,
   "metadata": {
    "ExecuteTime": {
     "end_time": "2019-05-06T11:59:22.522385Z",
     "start_time": "2019-05-06T11:59:22.517Z"
    }
   },
   "outputs": [],
   "source": [
    "77000 * 7"
   ]
  },
  {
   "cell_type": "code",
   "execution_count": 3,
   "metadata": {
    "ExecuteTime": {
     "end_time": "2019-05-06T11:59:22.633472Z",
     "start_time": "2019-05-06T11:59:22.627854Z"
    }
   },
   "outputs": [
    {
     "data": {
      "text/plain": [
       "450000"
      ]
     },
     "execution_count": 3,
     "metadata": {},
     "output_type": "execute_result"
    }
   ],
   "source": [
    "(70000 + 54000 + 97000 + 83000 + 66000 + 80000)"
   ]
  },
  {
   "cell_type": "code",
   "execution_count": 4,
   "metadata": {
    "ExecuteTime": {
     "end_time": "2019-05-06T11:59:22.637425Z",
     "start_time": "2019-05-06T11:59:22.635014Z"
    }
   },
   "outputs": [],
   "source": [
    "x = 539000 - 450000"
   ]
  },
  {
   "cell_type": "code",
   "execution_count": 5,
   "metadata": {
    "ExecuteTime": {
     "end_time": "2019-05-06T11:59:22.642412Z",
     "start_time": "2019-05-06T11:59:22.638954Z"
    }
   },
   "outputs": [
    {
     "data": {
      "text/plain": [
       "89000"
      ]
     },
     "execution_count": 5,
     "metadata": {},
     "output_type": "execute_result"
    }
   ],
   "source": [
    "x"
   ]
  },
  {
   "cell_type": "markdown",
   "metadata": {},
   "source": [
    "답 : 89000\n",
    "$$7 * 77,000 = 539,000$$\n",
    "\n",
    "7일 동안 평균 77,000원이면 총 539,000원을 사용했다. 수요일을 제외한 날들에 사용한 합은 450,000원이기 때문에 수요일에는 89,000원을 사용했다는 걸 알 수 있다."
   ]
  }
 ],
 "metadata": {
  "hide_input": false,
  "kernelspec": {
   "display_name": "Python 3",
   "language": "python",
   "name": "python3"
  },
  "language_info": {
   "codemirror_mode": {
    "name": "ipython",
    "version": 3
   },
   "file_extension": ".py",
   "mimetype": "text/x-python",
   "name": "python",
   "nbconvert_exporter": "python",
   "pygments_lexer": "ipython3",
   "version": "3.7.3"
  },
  "toc": {
   "base_numbering": 1,
   "nav_menu": {},
   "number_sections": true,
   "sideBar": true,
   "skip_h1_title": false,
   "title_cell": "Table of Contents",
   "title_sidebar": "Contents",
   "toc_cell": false,
   "toc_position": {},
   "toc_section_display": true,
   "toc_window_display": false
  },
  "varInspector": {
   "cols": {
    "lenName": 16,
    "lenType": 16,
    "lenVar": 40
   },
   "kernels_config": {
    "python": {
     "delete_cmd_postfix": "",
     "delete_cmd_prefix": "del ",
     "library": "var_list.py",
     "varRefreshCmd": "print(var_dic_list())"
    },
    "r": {
     "delete_cmd_postfix": ") ",
     "delete_cmd_prefix": "rm(",
     "library": "var_list.r",
     "varRefreshCmd": "cat(var_dic_list()) "
    }
   },
   "types_to_exclude": [
    "module",
    "function",
    "builtin_function_or_method",
    "instance",
    "_Feature"
   ],
   "window_display": false
  }
 },
 "nbformat": 4,
 "nbformat_minor": 2
}
