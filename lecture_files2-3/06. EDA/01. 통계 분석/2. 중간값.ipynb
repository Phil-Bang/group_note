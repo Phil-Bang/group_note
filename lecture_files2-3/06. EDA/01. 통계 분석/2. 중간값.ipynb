{
 "cells": [
  {
   "cell_type": "markdown",
   "metadata": {},
   "source": [
    "# 중간 값(Median)"
   ]
  },
  {
   "cell_type": "markdown",
   "metadata": {},
   "source": [
    "1. 정렬\n",
    "2. 홀수면, 가운데 값이 중간 값\n",
    "3. 개수가 짝수면,중앙의 2개 값을 더해서 2로 나눔"
   ]
  },
  {
   "cell_type": "markdown",
   "metadata": {},
   "source": [
    "# 평균값 vs. 중간값"
   ]
  },
  {
   "cell_type": "markdown",
   "metadata": {},
   "source": [
    "* 평균 값은 잘 못 된 혹은 특이한 데이터의 영향을 크게 받는다.\n",
    "* 중간 값은 영향을 덜 받는다."
   ]
  },
  {
   "cell_type": "markdown",
   "metadata": {},
   "source": [
    "# 중간값 계산하기"
   ]
  },
  {
   "cell_type": "markdown",
   "metadata": {},
   "source": [
    "**1. 다음 주어진 숫자들의 중간값을 계산해라.**\n",
    "\n",
    "44,\t42,\t43,\t28,\t46,\t33,\t42,\t37,\t29\n"
   ]
  },
  {
   "cell_type": "code",
   "execution_count": null,
   "metadata": {
    "ExecuteTime": {
     "end_time": "2019-05-05T10:01:27.187400Z",
     "start_time": "2019-05-05T10:01:27.184608Z"
    }
   },
   "outputs": [],
   "source": [
    "values = [44,42,43,28,46,33,42,37,29]"
   ]
  },
  {
   "cell_type": "code",
   "execution_count": null,
   "metadata": {
    "ExecuteTime": {
     "end_time": "2019-05-05T10:02:09.936451Z",
     "start_time": "2019-05-05T10:02:09.932627Z"
    }
   },
   "outputs": [],
   "source": [
    "sorted(values)"
   ]
  },
  {
   "cell_type": "markdown",
   "metadata": {},
   "source": [
    "데이터 개수가 홀수인 경우, 정렬한 후 정가운데에 위치한 값이 중간값이다."
   ]
  },
  {
   "cell_type": "markdown",
   "metadata": {},
   "source": [
    "**2. 다음 주어진 숫자들의 중간값을 계산해라.**\n",
    "\n",
    "33,\t45,\t98,\t38,\t21,\t49,\t51,\t58,\t82,\t75"
   ]
  },
  {
   "cell_type": "code",
   "execution_count": null,
   "metadata": {
    "ExecuteTime": {
     "end_time": "2019-05-05T10:03:41.198784Z",
     "start_time": "2019-05-05T10:03:41.194649Z"
    }
   },
   "outputs": [],
   "source": [
    "values = [33,45,98,38,21,49,51,58,82,75]\n",
    "sorted(values)"
   ]
  },
  {
   "cell_type": "code",
   "execution_count": null,
   "metadata": {
    "ExecuteTime": {
     "end_time": "2019-05-05T10:05:07.002724Z",
     "start_time": "2019-05-05T10:05:06.999067Z"
    }
   },
   "outputs": [],
   "source": [
    "(49 + 51) / 2"
   ]
  },
  {
   "cell_type": "markdown",
   "metadata": {},
   "source": [
    "데이터의 개수가 짝수인 경우, 중간값을 계산하기 위해서 가운데 두 개를 봐야 하는데요. 이 경우 가운데 두 개는 49와 51입니다.\n",
    "\n",
    "$$\\frac{49 + 51}{2} = 50$$"
   ]
  }
 ],
 "metadata": {
  "hide_input": false,
  "kernelspec": {
   "display_name": "Python 3",
   "language": "python",
   "name": "python3"
  },
  "language_info": {
   "codemirror_mode": {
    "name": "ipython",
    "version": 3
   },
   "file_extension": ".py",
   "mimetype": "text/x-python",
   "name": "python",
   "nbconvert_exporter": "python",
   "pygments_lexer": "ipython3",
   "version": "3.7.3"
  },
  "toc": {
   "base_numbering": 1,
   "nav_menu": {},
   "number_sections": true,
   "sideBar": true,
   "skip_h1_title": false,
   "title_cell": "Table of Contents",
   "title_sidebar": "Contents",
   "toc_cell": false,
   "toc_position": {},
   "toc_section_display": true,
   "toc_window_display": false
  },
  "varInspector": {
   "cols": {
    "lenName": 16,
    "lenType": 16,
    "lenVar": 40
   },
   "kernels_config": {
    "python": {
     "delete_cmd_postfix": "",
     "delete_cmd_prefix": "del ",
     "library": "var_list.py",
     "varRefreshCmd": "print(var_dic_list())"
    },
    "r": {
     "delete_cmd_postfix": ") ",
     "delete_cmd_prefix": "rm(",
     "library": "var_list.r",
     "varRefreshCmd": "cat(var_dic_list()) "
    }
   },
   "types_to_exclude": [
    "module",
    "function",
    "builtin_function_or_method",
    "instance",
    "_Feature"
   ],
   "window_display": false
  }
 },
 "nbformat": 4,
 "nbformat_minor": 2
}
