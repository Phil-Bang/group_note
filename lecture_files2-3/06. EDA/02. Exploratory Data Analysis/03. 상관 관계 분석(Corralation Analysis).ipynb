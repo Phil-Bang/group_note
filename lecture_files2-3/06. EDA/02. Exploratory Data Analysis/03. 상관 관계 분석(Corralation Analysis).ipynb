{
 "cells": [
  {
   "cell_type": "code",
   "execution_count": null,
   "metadata": {
    "ExecuteTime": {
     "end_time": "2019-05-06T12:04:16.809885Z",
     "start_time": "2019-05-06T12:04:16.540643Z"
    }
   },
   "outputs": [],
   "source": [
    "%matplotlib inline"
   ]
  },
  {
   "cell_type": "code",
   "execution_count": null,
   "metadata": {
    "ExecuteTime": {
     "end_time": "2019-05-06T12:04:16.819545Z",
     "start_time": "2019-05-06T12:04:16.811454Z"
    }
   },
   "outputs": [],
   "source": [
    "from matplotlib import pyplot as plt\n",
    "# plt.figure(figsize=(15,8))\n",
    "plt.figure(figsize=(8, 8))"
   ]
  },
  {
   "cell_type": "code",
   "execution_count": null,
   "metadata": {
    "ExecuteTime": {
     "end_time": "2019-05-06T12:04:17.301384Z",
     "start_time": "2019-05-06T12:04:16.821264Z"
    }
   },
   "outputs": [],
   "source": [
    "import pandas as pd\n",
    "import seaborn as sns"
   ]
  },
  {
   "cell_type": "code",
   "execution_count": null,
   "metadata": {
    "ExecuteTime": {
     "end_time": "2019-05-06T12:04:17.356588Z",
     "start_time": "2019-05-06T12:04:17.303250Z"
    }
   },
   "outputs": [],
   "source": [
    "df = pd.read_csv(\"./data/young_survey.csv\")\n",
    "df.head()"
   ]
  },
  {
   "cell_type": "markdown",
   "metadata": {},
   "source": [
    "# 음악과 관련된 데이터만 추출"
   ]
  },
  {
   "cell_type": "code",
   "execution_count": null,
   "metadata": {
    "ExecuteTime": {
     "end_time": "2019-05-06T12:04:17.376319Z",
     "start_time": "2019-05-06T12:04:17.358237Z"
    }
   },
   "outputs": [],
   "source": [
    "music = df.iloc[:, :19]\n",
    "music.head()\n",
    "\n",
    "# Music 컬럼은 음악을 좋아하면 최대 5점, 안 좋아하면 최소 1점\n",
    "# 나머지 컬럼은 특정 장르를 좋아하는지, 최대 5점 최소 1점"
   ]
  },
  {
   "cell_type": "code",
   "execution_count": null,
   "metadata": {
    "ExecuteTime": {
     "end_time": "2019-05-06T12:04:17.644938Z",
     "start_time": "2019-05-06T12:04:17.377549Z"
    }
   },
   "outputs": [],
   "source": [
    "sns.heatmap(music.corr())"
   ]
  },
  {
   "cell_type": "code",
   "execution_count": null,
   "metadata": {
    "ExecuteTime": {
     "end_time": "2019-05-06T12:04:17.710221Z",
     "start_time": "2019-05-06T12:04:17.646227Z"
    }
   },
   "outputs": [],
   "source": [
    "df.corr()"
   ]
  },
  {
   "cell_type": "code",
   "execution_count": null,
   "metadata": {
    "ExecuteTime": {
     "end_time": "2019-05-06T12:04:17.741776Z",
     "start_time": "2019-05-06T12:04:17.712423Z"
    }
   },
   "outputs": [],
   "source": [
    "df.corr()[\"Age\"].sort_values(ascending=False)"
   ]
  }
 ],
 "metadata": {
  "hide_input": false,
  "kernelspec": {
   "display_name": "Python 3",
   "language": "python",
   "name": "python3"
  },
  "language_info": {
   "codemirror_mode": {
    "name": "ipython",
    "version": 3
   },
   "file_extension": ".py",
   "mimetype": "text/x-python",
   "name": "python",
   "nbconvert_exporter": "python",
   "pygments_lexer": "ipython3",
   "version": "3.7.3"
  },
  "toc": {
   "base_numbering": 1,
   "nav_menu": {},
   "number_sections": true,
   "sideBar": true,
   "skip_h1_title": false,
   "title_cell": "Table of Contents",
   "title_sidebar": "Contents",
   "toc_cell": false,
   "toc_position": {},
   "toc_section_display": true,
   "toc_window_display": false
  },
  "varInspector": {
   "cols": {
    "lenName": 16,
    "lenType": 16,
    "lenVar": 40
   },
   "kernels_config": {
    "python": {
     "delete_cmd_postfix": "",
     "delete_cmd_prefix": "del ",
     "library": "var_list.py",
     "varRefreshCmd": "print(var_dic_list())"
    },
    "r": {
     "delete_cmd_postfix": ") ",
     "delete_cmd_prefix": "rm(",
     "library": "var_list.r",
     "varRefreshCmd": "cat(var_dic_list()) "
    }
   },
   "types_to_exclude": [
    "module",
    "function",
    "builtin_function_or_method",
    "instance",
    "_Feature"
   ],
   "window_display": false
  }
 },
 "nbformat": 4,
 "nbformat_minor": 2
}
