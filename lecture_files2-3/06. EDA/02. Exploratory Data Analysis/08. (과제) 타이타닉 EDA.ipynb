{
 "cells": [
  {
   "cell_type": "markdown",
   "metadata": {},
   "source": [
    "# 문제\n",
    "\n",
    "* **`titanic.csv` 데이터에는 탑승자들의 정보가 담겨 있다.**\n",
    "  - 생존 여부, 성별, 나이, 지불한 요금, 좌석 등급 등\n",
    "* 생존 여부는 `'Survived'` column에 저장: 0이 사망, 1이 생존\n",
    "* 좌석 등급은 `'Pclass'` column에 저장: 1은 1등실, 2는 2등실, 3은 3등실을 의미\n",
    "* 지불한 요금은 `'Fare'` column에 저장\n",
    "\n",
    "**다양한 방면으로 EDA(탐색적 데이터 분석)를 한 후, 다음 보기 중 맞는 것을 모두 골라라.**\n",
    "\n",
    "1. [] 타이타닉의 승객은 30대와 40대가 가장 많다.\n",
    "1. [] 가장 높은 요금을 낸 사람은 30대이다.\n",
    "1. [] 생존자가 사망자보다 더 많다.\n",
    "1. [] 1등실, 2등실, 3등실 중 가장 많은 사람이 탑승한 곳은 3등실이다.\n",
    "1. [] 가장 생존율이 높은 객실 등급은 1등실이다.\n",
    "1. [] 나이가 어릴수록 생존율이 높다.\n",
    "1. [] 나이보다 성별이 생존율에 더 많은 영향을 미친다."
   ]
  },
  {
   "cell_type": "code",
   "execution_count": null,
   "metadata": {
    "ExecuteTime": {
     "end_time": "2019-05-06T00:42:50.430879Z",
     "start_time": "2019-05-06T00:42:49.850201Z"
    }
   },
   "outputs": [],
   "source": [
    "import pandas as pd\n",
    "import seaborn as sns"
   ]
  },
  {
   "cell_type": "code",
   "execution_count": null,
   "metadata": {
    "ExecuteTime": {
     "end_time": "2019-05-06T00:43:05.571694Z",
     "start_time": "2019-05-06T00:43:05.549653Z"
    }
   },
   "outputs": [],
   "source": [
    "df = pd.read_csv(\"./data/titanic.csv\")\n",
    "df.head()"
   ]
  },
  {
   "cell_type": "markdown",
   "metadata": {},
   "source": [
    "## EDA 시작"
   ]
  },
  {
   "cell_type": "markdown",
   "metadata": {},
   "source": [
    "## 보기 1: \"타이타닉의 승객은 30대와 40대가 가장 많다.\""
   ]
  },
  {
   "cell_type": "code",
   "execution_count": null,
   "metadata": {
    "ExecuteTime": {
     "end_time": "2019-05-06T00:50:37.998404Z",
     "start_time": "2019-05-06T00:50:37.831194Z"
    }
   },
   "outputs": [],
   "source": []
  },
  {
   "cell_type": "markdown",
   "metadata": {},
   "source": [
    "## 보기 2: \"가장 높은 요금을 낸 사람은 30대이다.\""
   ]
  },
  {
   "cell_type": "code",
   "execution_count": null,
   "metadata": {
    "ExecuteTime": {
     "end_time": "2019-05-06T00:52:30.149121Z",
     "start_time": "2019-05-06T00:52:30.009611Z"
    }
   },
   "outputs": [],
   "source": []
  },
  {
   "cell_type": "markdown",
   "metadata": {},
   "source": [
    "## 보기 3: \"생존자가 사망자보다 더 많다.\""
   ]
  },
  {
   "cell_type": "code",
   "execution_count": null,
   "metadata": {
    "ExecuteTime": {
     "end_time": "2019-05-06T00:57:48.287303Z",
     "start_time": "2019-05-06T00:57:48.281065Z"
    }
   },
   "outputs": [],
   "source": []
  },
  {
   "cell_type": "markdown",
   "metadata": {},
   "source": [
    "## 보기 4: 1\"등실, 2등실, 3등실 중 가장 많은 사람이 탑승한 곳은 3등실이다.\""
   ]
  },
  {
   "cell_type": "code",
   "execution_count": null,
   "metadata": {
    "ExecuteTime": {
     "end_time": "2019-05-06T00:58:48.530210Z",
     "start_time": "2019-05-06T00:58:48.524790Z"
    }
   },
   "outputs": [],
   "source": []
  },
  {
   "cell_type": "markdown",
   "metadata": {},
   "source": [
    "## 보기 5: \"가장 생존율이 높은 객실 등급은 1등실이다.\""
   ]
  },
  {
   "cell_type": "code",
   "execution_count": null,
   "metadata": {
    "ExecuteTime": {
     "end_time": "2019-05-06T01:00:09.793362Z",
     "start_time": "2019-05-06T01:00:09.011656Z"
    }
   },
   "outputs": [],
   "source": []
  },
  {
   "cell_type": "markdown",
   "metadata": {},
   "source": [
    "## 보기 6: \"나이가 어릴수록 생존율이 높다.\""
   ]
  },
  {
   "cell_type": "code",
   "execution_count": null,
   "metadata": {
    "ExecuteTime": {
     "end_time": "2019-05-06T12:47:16.415537Z",
     "start_time": "2019-05-06T12:47:16.311645Z"
    }
   },
   "outputs": [],
   "source": []
  },
  {
   "cell_type": "markdown",
   "metadata": {
    "ExecuteTime": {
     "end_time": "2019-05-06T01:02:31.659762Z",
     "start_time": "2019-05-06T01:02:31.656418Z"
    }
   },
   "source": [
    "## 보기 7: \"나이보다 성별이 생존율에 더 많은 영향을 미친다.\""
   ]
  },
  {
   "cell_type": "code",
   "execution_count": null,
   "metadata": {
    "ExecuteTime": {
     "end_time": "2019-05-06T01:02:44.812894Z",
     "start_time": "2019-05-06T01:02:44.659065Z"
    }
   },
   "outputs": [],
   "source": []
  }
 ],
 "metadata": {
  "hide_input": false,
  "kernelspec": {
   "display_name": "Python 3",
   "language": "python",
   "name": "python3"
  },
  "language_info": {
   "codemirror_mode": {
    "name": "ipython",
    "version": 3
   },
   "file_extension": ".py",
   "mimetype": "text/x-python",
   "name": "python",
   "nbconvert_exporter": "python",
   "pygments_lexer": "ipython3",
   "version": "3.7.3"
  },
  "toc": {
   "base_numbering": 1,
   "nav_menu": {},
   "number_sections": true,
   "sideBar": true,
   "skip_h1_title": false,
   "title_cell": "Table of Contents",
   "title_sidebar": "Contents",
   "toc_cell": false,
   "toc_position": {},
   "toc_section_display": true,
   "toc_window_display": false
  },
  "varInspector": {
   "cols": {
    "lenName": 16,
    "lenType": 16,
    "lenVar": 40
   },
   "kernels_config": {
    "python": {
     "delete_cmd_postfix": "",
     "delete_cmd_prefix": "del ",
     "library": "var_list.py",
     "varRefreshCmd": "print(var_dic_list())"
    },
    "r": {
     "delete_cmd_postfix": ") ",
     "delete_cmd_prefix": "rm(",
     "library": "var_list.r",
     "varRefreshCmd": "cat(var_dic_list()) "
    }
   },
   "types_to_exclude": [
    "module",
    "function",
    "builtin_function_or_method",
    "instance",
    "_Feature"
   ],
   "window_display": false
  }
 },
 "nbformat": 4,
 "nbformat_minor": 2
}
