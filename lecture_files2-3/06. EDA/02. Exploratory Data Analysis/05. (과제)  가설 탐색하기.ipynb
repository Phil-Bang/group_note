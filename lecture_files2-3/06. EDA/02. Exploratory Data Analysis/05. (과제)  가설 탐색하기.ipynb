{
 "cells": [
  {
   "cell_type": "markdown",
   "metadata": {},
   "source": [
    "# 문제\n",
    "\n",
    "* 데이터이름: `young_survey.csv`\n",
    "* 아래 가설 중, 낮은 가설을 찾아라\n",
    "* 가설\n",
    "  - [] 악기를 다루는 사람들은 시 쓰기를 좋아하는 경향이 있을 것이다.\n",
    "  - [] 외모에 돈을 많이 투자하는 사람들은 브랜드 의류를 선호할 것이다.\n",
    "  - [X] 메모를 자주 하는 사람들은 새로운 환경에 쉽게 적응할 것이다.\n",
    "  - [] 워커홀릭들은 건강한 음식을 먹으려는 경향이 있을 것이다.\n",
    "\n",
    "\n",
    "**이 가설과 관련이 있는 column은 다음과 같습니다.**\n",
    "\n",
    "* Branded clothing: 나는 브랜드가 없는 옷보다 브랜드가 있는 옷을 선호한다.\n",
    "* Healthy eating: 나는 건강하거나 품질이 좋은 음식에는 기쁘게 돈을 더 낼 수 있다.\n",
    "* Musical instruments: 나는 악기 연주에 관심이 많다.\n",
    "* New environment: 나는 새 환경에 잘 적응하는 편이다.\n",
    "* Prioritising workload: 나는 일을 미루지 않고 즉시 해결해버리려고 한다.\n",
    "* Spending on looks: 나는 내 외모에 돈을 많이 쓴다.\n",
    "* Workaholism: 나는 여가 시간에 공부나 일을 자주 한다.\n",
    "* Writing: 나는 시 쓰기에 관심이 많다.\n",
    "* Writing notes: 나는 항상 메모를 한다."
   ]
  },
  {
   "cell_type": "code",
   "execution_count": null,
   "metadata": {
    "ExecuteTime": {
     "end_time": "2019-05-06T12:23:12.051895Z",
     "start_time": "2019-05-06T12:23:11.351502Z"
    }
   },
   "outputs": [],
   "source": [
    "import pandas as pd\n",
    "import seaborn as sns"
   ]
  },
  {
   "cell_type": "code",
   "execution_count": null,
   "metadata": {
    "ExecuteTime": {
     "end_time": "2019-05-06T12:23:12.081297Z",
     "start_time": "2019-05-06T12:23:12.053452Z"
    }
   },
   "outputs": [],
   "source": [
    "df = pd.read_csv(\"./data/young_survey.csv\")"
   ]
  },
  {
   "cell_type": "markdown",
   "metadata": {},
   "source": [
    "# 상관 계수 구하기"
   ]
  },
  {
   "cell_type": "code",
   "execution_count": null,
   "metadata": {
    "ExecuteTime": {
     "end_time": "2019-05-06T12:19:28.832439Z",
     "start_time": "2019-05-06T12:19:28.760355Z"
    }
   },
   "outputs": [],
   "source": []
  },
  {
   "cell_type": "markdown",
   "metadata": {},
   "source": [
    "# 1번 가설\n",
    "\n",
    "**\"악기를 다루는 사람들은 시 쓰기를 좋아하는 경향이 있을 것이다.\"**"
   ]
  },
  {
   "cell_type": "code",
   "execution_count": null,
   "metadata": {
    "ExecuteTime": {
     "end_time": "2019-05-06T12:19:28.865226Z",
     "start_time": "2019-05-06T12:19:28.834271Z"
    }
   },
   "outputs": [],
   "source": []
  },
  {
   "cell_type": "markdown",
   "metadata": {},
   "source": [
    "# 2번 가설\n",
    "\n",
    "**\"외모에 돈을 많이 투자하는 사람들은 브랜드 의류를 선호할 것이다.\"**"
   ]
  },
  {
   "cell_type": "code",
   "execution_count": null,
   "metadata": {
    "ExecuteTime": {
     "end_time": "2019-05-06T12:19:28.899060Z",
     "start_time": "2019-05-06T12:19:28.867058Z"
    }
   },
   "outputs": [],
   "source": []
  },
  {
   "cell_type": "markdown",
   "metadata": {},
   "source": [
    "# 3번 가설\n",
    "\n",
    "**\"메모를 자주 하는 사람들은 새로운 환경에 쉽게 적응할 것이다.\"**"
   ]
  },
  {
   "cell_type": "code",
   "execution_count": null,
   "metadata": {
    "ExecuteTime": {
     "end_time": "2019-05-06T12:19:28.931671Z",
     "start_time": "2019-05-06T12:19:28.900551Z"
    }
   },
   "outputs": [],
   "source": []
  },
  {
   "cell_type": "markdown",
   "metadata": {
    "ExecuteTime": {
     "end_time": "2019-05-06T00:15:46.496928Z",
     "start_time": "2019-05-06T00:15:46.493719Z"
    }
   },
   "source": [
    "# 4번 가설\n",
    "\n",
    "**\"워커홀릭들은 건강한 음식을 먹으려는 경향이 있을 것이다.\"**"
   ]
  },
  {
   "cell_type": "code",
   "execution_count": null,
   "metadata": {
    "ExecuteTime": {
     "end_time": "2019-05-06T12:19:28.963955Z",
     "start_time": "2019-05-06T12:19:28.932929Z"
    }
   },
   "outputs": [],
   "source": []
  }
 ],
 "metadata": {
  "hide_input": false,
  "kernelspec": {
   "display_name": "Python 3",
   "language": "python",
   "name": "python3"
  },
  "language_info": {
   "codemirror_mode": {
    "name": "ipython",
    "version": 3
   },
   "file_extension": ".py",
   "mimetype": "text/x-python",
   "name": "python",
   "nbconvert_exporter": "python",
   "pygments_lexer": "ipython3",
   "version": "3.7.3"
  },
  "toc": {
   "base_numbering": 1,
   "nav_menu": {},
   "number_sections": true,
   "sideBar": true,
   "skip_h1_title": false,
   "title_cell": "Table of Contents",
   "title_sidebar": "Contents",
   "toc_cell": false,
   "toc_position": {},
   "toc_section_display": true,
   "toc_window_display": false
  },
  "varInspector": {
   "cols": {
    "lenName": 16,
    "lenType": 16,
    "lenVar": 40
   },
   "kernels_config": {
    "python": {
     "delete_cmd_postfix": "",
     "delete_cmd_prefix": "del ",
     "library": "var_list.py",
     "varRefreshCmd": "print(var_dic_list())"
    },
    "r": {
     "delete_cmd_postfix": ") ",
     "delete_cmd_prefix": "rm(",
     "library": "var_list.r",
     "varRefreshCmd": "cat(var_dic_list()) "
    }
   },
   "types_to_exclude": [
    "module",
    "function",
    "builtin_function_or_method",
    "instance",
    "_Feature"
   ],
   "window_display": false
  }
 },
 "nbformat": 4,
 "nbformat_minor": 2
}
